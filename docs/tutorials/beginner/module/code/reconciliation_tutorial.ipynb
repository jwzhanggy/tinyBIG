{
 "cells": [
  {
   "metadata": {
    "ExecuteTime": {
     "end_time": "2024-12-02T00:34:20.029741Z",
     "start_time": "2024-12-02T00:34:18.630213Z"
    }
   },
   "cell_type": "code",
   "source": [
    "import torch\n",
    "from tinybig.reconciliation import identity_reconciliation\n",
    "\n",
    "rec_func = identity_reconciliation(name='identity_reconciliation')\n",
    "\n",
    "n, D = 6, 12\n",
    "l = rec_func.calculate_l(n=n, D=D)\n",
    "print('n:', n, '; D:', D, '; l:', l)\n",
    "\n",
    "w = torch.nn.Parameter(torch.randn(1, l), requires_grad=True)\n",
    "W = rec_func(w=w, n=n, D=D)\n",
    "\n",
    "print(\"w vector shape:\", w.shape, \"; W matrix shape:\", W.shape)"
   ],
   "id": "7976634cd6ed7148",
   "outputs": [
    {
     "name": "stdout",
     "output_type": "stream",
     "text": [
      "n: 6 ; D: 12 ; l: 72\n",
      "w vector shape: torch.Size([1, 72]) ; W matrix shape: torch.Size([6, 12])\n"
     ]
    }
   ],
   "execution_count": 1
  },
  {
   "metadata": {
    "ExecuteTime": {
     "end_time": "2024-12-02T00:34:20.033847Z",
     "start_time": "2024-12-02T00:34:20.030769Z"
    }
   },
   "cell_type": "code",
   "source": [
    "import torch\n",
    "from tinybig.reconciliation import duplicated_padding_reconciliation\n",
    "\n",
    "p, q = 2, 2\n",
    "rec_func = duplicated_padding_reconciliation(name='duplicated_padding_reconciliation', p=p, q=q)\n",
    "\n",
    "n, D = 6, 12\n",
    "l = rec_func.calculate_l(n=n, D=D)\n",
    "print('n:', n, '; D:', D, '; l:', l)\n",
    "\n",
    "w = torch.nn.Parameter(torch.randn(1, l), requires_grad=True)\n",
    "W = rec_func(w=w, n=n, D=D)\n",
    "\n",
    "print(\"w vector shape:\", w.shape, \"; W matrix shape:\", W.shape)\n"
   ],
   "id": "c0fc4f0f76218daf",
   "outputs": [
    {
     "name": "stdout",
     "output_type": "stream",
     "text": [
      "n: 6 ; D: 12 ; l: 18\n",
      "w vector shape: torch.Size([1, 18]) ; W matrix shape: torch.Size([6, 12])\n"
     ]
    }
   ],
   "execution_count": 2
  },
  {
   "metadata": {
    "ExecuteTime": {
     "end_time": "2024-12-02T00:34:20.036982Z",
     "start_time": "2024-12-02T00:34:20.034540Z"
    }
   },
   "cell_type": "code",
   "source": [
    "import torch\n",
    "from tinybig.reconciliation import lorr_reconciliation\n",
    "\n",
    "r = 1\n",
    "rec_func = lorr_reconciliation(name='lorr_reconciliation', r=r)\n",
    "\n",
    "n, D = 6, 12\n",
    "l = rec_func.calculate_l(n=n, D=D)\n",
    "print('n:', n, '; D:', D, '; l:', l)\n",
    "\n",
    "w = torch.nn.Parameter(torch.randn(1, l), requires_grad=True)\n",
    "W = rec_func(w=w, n=n, D=D)\n",
    "\n",
    "print(\"w vector shape:\", w.shape, \"; W matrix shape:\", W.shape)"
   ],
   "id": "e95c431da96c5439",
   "outputs": [
    {
     "name": "stdout",
     "output_type": "stream",
     "text": [
      "n: 6 ; D: 12 ; l: 18\n",
      "w vector shape: torch.Size([1, 18]) ; W matrix shape: torch.Size([6, 12])\n"
     ]
    }
   ],
   "execution_count": 3
  },
  {
   "metadata": {
    "ExecuteTime": {
     "end_time": "2024-12-02T00:34:20.039675Z",
     "start_time": "2024-12-02T00:34:20.037542Z"
    }
   },
   "cell_type": "code",
   "source": [
    "import torch\n",
    "from tinybig.reconciliation import hm_reconciliation\n",
    "\n",
    "p, q = 2, 2\n",
    "rec_func_manual = hm_reconciliation(name='hm_reconciliation', p=p, q=q)\n",
    "\n",
    "n, D = 6, 12\n",
    "l = rec_func_manual.calculate_l(n=n, D=D)\n",
    "print('n:', n, '; D:', D, '; l:', l)\n",
    "\n",
    "w = torch.nn.Parameter(torch.randn(1, l), requires_grad=True)\n",
    "W = rec_func_manual(w=w, n=n, D=D)\n",
    "\n",
    "print(\"w vector shape:\", w.shape, \"; W matrix shape:\", W.shape)"
   ],
   "id": "3829fad658709686",
   "outputs": [
    {
     "name": "stdout",
     "output_type": "stream",
     "text": [
      "n: 6 ; D: 12 ; l: 22\n",
      "w vector shape: torch.Size([1, 22]) ; W matrix shape: torch.Size([6, 12])\n"
     ]
    }
   ],
   "execution_count": 4
  },
  {
   "metadata": {
    "ExecuteTime": {
     "end_time": "2024-12-02T00:34:20.043106Z",
     "start_time": "2024-12-02T00:34:20.040843Z"
    }
   },
   "cell_type": "code",
   "source": [
    "import torch\n",
    "from tinybig.reconciliation import hm_reconciliation\n",
    "\n",
    "rec_func_auto = hm_reconciliation(name='hm_reconciliation')\n",
    "\n",
    "n, D = 6, 12\n",
    "l = rec_func_auto.calculate_l(n=n, D=D)\n",
    "print('n:', n, '; D:', D, '; l:', l)\n",
    "\n",
    "w = torch.nn.Parameter(torch.randn(1, l), requires_grad=True)\n",
    "W = rec_func_auto(w=w, n=n, D=D)\n",
    "\n",
    "print(\"w vector shape:\", w.shape, \"; W matrix shape:\", W.shape)"
   ],
   "id": "4dab2053b883ac00",
   "outputs": [
    {
     "name": "stdout",
     "output_type": "stream",
     "text": [
      "n: 6 ; D: 12 ; l: 18\n",
      "w vector shape: torch.Size([1, 18]) ; W matrix shape: torch.Size([6, 12])\n"
     ]
    }
   ],
   "execution_count": 5
  },
  {
   "metadata": {
    "ExecuteTime": {
     "end_time": "2024-12-02T00:34:20.045972Z",
     "start_time": "2024-12-02T00:34:20.043714Z"
    }
   },
   "cell_type": "code",
   "source": [
    "import torch\n",
    "from tinybig.reconciliation import lphm_reconciliation\n",
    "\n",
    "r = 1\n",
    "rec_func_auto = lphm_reconciliation(name='lphm_reconciliation', r=r)\n",
    "\n",
    "n, D = 6, 12\n",
    "l = rec_func_auto.calculate_l(n=n, D=D)\n",
    "print('n:', n, '; D:', D, '; l:', l)\n",
    "\n",
    "w = torch.nn.Parameter(torch.randn(1, l), requires_grad=True)\n",
    "W = rec_func_auto(w=w, n=n, D=D)\n",
    "\n",
    "print(\"w vector shape:\", w.shape, \"; W matrix shape:\", W.shape)"
   ],
   "id": "cb37123dfac9a7c",
   "outputs": [
    {
     "name": "stdout",
     "output_type": "stream",
     "text": [
      "n: 6 ; D: 12 ; l: 13\n",
      "w vector shape: torch.Size([1, 13]) ; W matrix shape: torch.Size([6, 12])\n"
     ]
    }
   ],
   "execution_count": 6
  },
  {
   "metadata": {
    "ExecuteTime": {
     "end_time": "2024-12-02T00:34:20.048641Z",
     "start_time": "2024-12-02T00:34:20.046464Z"
    }
   },
   "cell_type": "code",
   "source": [
    "import torch\n",
    "from tinybig.reconciliation import dual_lphm_reconciliation\n",
    "\n",
    "r = 1\n",
    "rec_func_auto = dual_lphm_reconciliation(name='dual_lphm_reconciliation', r=r)\n",
    "\n",
    "n, D = 6, 12\n",
    "l = rec_func_auto.calculate_l(n=n, D=D)\n",
    "print('n:', n, '; D:', D, '; l:', l)\n",
    "\n",
    "w = torch.nn.Parameter(torch.randn(1, l), requires_grad=True)\n",
    "W = rec_func_auto(w=w, n=n, D=D)\n",
    "\n",
    "print(\"w vector shape:\", w.shape, \"; W matrix shape:\", W.shape)"
   ],
   "id": "9b4633ce781ac2de",
   "outputs": [
    {
     "name": "stdout",
     "output_type": "stream",
     "text": [
      "n: 6 ; D: 12 ; l: 12\n",
      "w vector shape: torch.Size([1, 12]) ; W matrix shape: torch.Size([6, 12])\n"
     ]
    }
   ],
   "execution_count": 7
  },
  {
   "metadata": {
    "ExecuteTime": {
     "end_time": "2024-12-02T00:34:20.051591Z",
     "start_time": "2024-12-02T00:34:20.049213Z"
    }
   },
   "cell_type": "code",
   "source": [
    "import torch\n",
    "from tinybig.config.base_config import config\n",
    "\n",
    "parameter_reconciliation_configs = {\n",
    "    'parameter_reconciliation_class': 'tinybig.reconciliation.dual_lphm_reconciliation',\n",
    "    'parameter_reconciliation_parameters': {\n",
    "        'name': 'dual_lphm_reconciliation',\n",
    "        'p': 2,\n",
    "        'q': 3,\n",
    "        'r': 1,\n",
    "    }\n",
    "}\n",
    "\n",
    "rec_func = config.get_obj_from_str(parameter_reconciliation_configs['parameter_reconciliation_class'])(**parameter_reconciliation_configs['parameter_reconciliation_parameters'])\n",
    "\n",
    "n, D = 6, 12\n",
    "l = rec_func.calculate_l(n=n, D=D)\n",
    "print('n:', n, '; D:', D, '; l:', l)\n",
    "\n",
    "w = torch.nn.Parameter(torch.randn(1, l), requires_grad=True)\n",
    "W = rec_func(w=w, n=n, D=D)\n",
    "\n",
    "print(\"w vector shape:\", w.shape, \"; W matrix shape:\", W.shape)"
   ],
   "id": "c84ff5be32395f19",
   "outputs": [
    {
     "name": "stdout",
     "output_type": "stream",
     "text": [
      "n: 6 ; D: 12 ; l: 12\n",
      "w vector shape: torch.Size([1, 12]) ; W matrix shape: torch.Size([6, 12])\n"
     ]
    }
   ],
   "execution_count": 8
  },
  {
   "metadata": {
    "ExecuteTime": {
     "end_time": "2024-12-02T00:34:20.053600Z",
     "start_time": "2024-12-02T00:34:20.052112Z"
    }
   },
   "cell_type": "code",
   "source": [
    "from tinybig.config.base_config import config\n",
    "\n",
    "parameter_reconciliation_configs = {\n",
    "    'parameter_reconciliation_class': 'tinybig.reconciliation.dual_lphm_reconciliation',\n",
    "    'parameter_reconciliation_parameters': {\n",
    "        'name': 'dual_lphm_reconciliation',\n",
    "        'p': 2,\n",
    "        'q': 3,\n",
    "        'r': 1,\n",
    "    }\n",
    "}\n",
    "\n",
    "rec_func = config.instantiation_from_configs(configs=parameter_reconciliation_configs, class_name='parameter_reconciliation_class', parameter_name='parameter_reconciliation_parameters')"
   ],
   "id": "a3026eae62e71e41",
   "outputs": [],
   "execution_count": 9
  },
  {
   "metadata": {},
   "cell_type": "markdown",
   "source": "",
   "id": "fea6b4d5f9cd66a4"
  },
  {
   "metadata": {
    "ExecuteTime": {
     "end_time": "2024-12-02T00:34:20.056977Z",
     "start_time": "2024-12-02T00:34:20.054132Z"
    }
   },
   "cell_type": "code",
   "source": [
    "import torch\n",
    "from tinybig.config.base_config import config\n",
    "\n",
    "config_obj = config(name='dual_lphm_reconciliation_function_config')\n",
    "func_configs = config_obj.load_yaml(cache_dir='./configs', config_file='reconciliation_function_config.yaml')\n",
    "\n",
    "rec_func = config.instantiation_from_configs(\n",
    "    configs=func_configs['parameter_reconciliation_configs'], \n",
    "    class_name='parameter_reconciliation_class', \n",
    "    parameter_name='parameter_reconciliation_parameters'\n",
    ")\n",
    "\n",
    "n, D = 6, 12\n",
    "l = rec_func.calculate_l(n=n, D=D)\n",
    "print('n:', n, '; D:', D, '; l:', l)\n",
    "\n",
    "w = torch.nn.Parameter(torch.randn(1, l), requires_grad=True)\n",
    "W = rec_func(w=w, n=n, D=D)\n",
    "\n",
    "print(\"w vector shape:\", w.shape, \"; W matrix shape:\", W.shape)"
   ],
   "id": "b2e10eaf5c901d11",
   "outputs": [
    {
     "name": "stdout",
     "output_type": "stream",
     "text": [
      "n: 6 ; D: 12 ; l: 12\n",
      "w vector shape: torch.Size([1, 12]) ; W matrix shape: torch.Size([6, 12])\n"
     ]
    }
   ],
   "execution_count": 10
  }
 ],
 "metadata": {
  "kernelspec": {
   "display_name": "Python 3",
   "language": "python",
   "name": "python3"
  },
  "language_info": {
   "codemirror_mode": {
    "name": "ipython",
    "version": 2
   },
   "file_extension": ".py",
   "mimetype": "text/x-python",
   "name": "python",
   "nbconvert_exporter": "python",
   "pygments_lexer": "ipython2",
   "version": "2.7.6"
  }
 },
 "nbformat": 4,
 "nbformat_minor": 5
}
