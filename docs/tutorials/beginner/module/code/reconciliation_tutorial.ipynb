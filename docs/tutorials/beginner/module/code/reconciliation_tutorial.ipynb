{
 "cells": [
  {
   "metadata": {
    "ExecuteTime": {
     "end_time": "2024-11-28T20:15:18.336882Z",
     "start_time": "2024-11-28T20:15:18.332529Z"
    }
   },
   "cell_type": "code",
   "source": [
    "import torch\n",
    "from tinybig.reconciliation import identity_reconciliation\n",
    "\n",
    "rec_func = identity_reconciliation(name='identity_reconciliation')\n",
    "\n",
    "n, D = 6, 12\n",
    "l = rec_func.calculate_l(n=n, D=D)\n",
    "print('n:', n, '; D:', D, '; l:', l)\n",
    "\n",
    "w = torch.nn.Parameter(torch.randn(1, l), requires_grad=True)\n",
    "W = rec_func(w=w, n=n, D=D)\n",
    "\n",
    "print(\"w vector shape:\", w.shape, \"; W matrix shape:\", W.shape)"
   ],
   "id": "7976634cd6ed7148",
   "outputs": [
    {
     "name": "stdout",
     "output_type": "stream",
     "text": [
      "n: 6 D: 12 l: 72\n",
      "w vector shape: torch.Size([1, 72]) ; W matrix shape: torch.Size([6, 12])\n"
     ]
    }
   ],
   "execution_count": 17
  },
  {
   "metadata": {
    "ExecuteTime": {
     "end_time": "2024-11-28T21:00:30.006442Z",
     "start_time": "2024-11-28T21:00:30.002301Z"
    }
   },
   "cell_type": "code",
   "source": [
    "import torch\n",
    "from tinybig.reconciliation import duplicated_padding_reconciliation\n",
    "\n",
    "p, q = 2, 2\n",
    "rec_func = duplicated_padding_reconciliation(name='duplicated_padding_reconciliation', p=p, q=q)\n",
    "\n",
    "n, D = 6, 12\n",
    "l = rec_func.calculate_l(n=n, D=D)\n",
    "print('n:', n, '; D:', D, '; l:', l)\n",
    "\n",
    "w = torch.nn.Parameter(torch.randn(1, l), requires_grad=True)\n",
    "W = rec_func(w=w, n=n, D=D)\n",
    "\n",
    "print(\"w vector shape:\", w.shape, \"; W matrix shape:\", W.shape)\n"
   ],
   "id": "c0fc4f0f76218daf",
   "outputs": [
    {
     "name": "stdout",
     "output_type": "stream",
     "text": [
      "n: 6 ; D: 12 ; l: 18\n",
      "w vector shape: torch.Size([1, 18]) ; W matrix shape: torch.Size([6, 12])\n"
     ]
    }
   ],
   "execution_count": 27
  },
  {
   "metadata": {
    "ExecuteTime": {
     "end_time": "2024-11-28T21:06:28.667972Z",
     "start_time": "2024-11-28T21:06:28.663756Z"
    }
   },
   "cell_type": "code",
   "source": [
    "import torch\n",
    "from tinybig.reconciliation import lorr_reconciliation\n",
    "\n",
    "r = 1\n",
    "rec_func = lorr_reconciliation(name='lorr_reconciliation', r=r)\n",
    "\n",
    "n, D = 6, 12\n",
    "l = rec_func.calculate_l(n=n, D=D)\n",
    "print('n:', n, '; D:', D, '; l:', l)\n",
    "\n",
    "w = torch.nn.Parameter(torch.randn(1, l), requires_grad=True)\n",
    "W = rec_func(w=w, n=n, D=D)\n",
    "\n",
    "print(\"w vector shape:\", w.shape, \"; W matrix shape:\", W.shape)"
   ],
   "id": "e95c431da96c5439",
   "outputs": [
    {
     "name": "stdout",
     "output_type": "stream",
     "text": [
      "n: 6 ; D: 12 ; l: 18\n",
      "w vector shape: torch.Size([1, 18]) ; W matrix shape: torch.Size([6, 12])\n"
     ]
    }
   ],
   "execution_count": 28
  },
  {
   "metadata": {
    "ExecuteTime": {
     "end_time": "2024-11-28T21:08:24.155530Z",
     "start_time": "2024-11-28T21:08:24.152660Z"
    }
   },
   "cell_type": "code",
   "source": [
    "import torch\n",
    "from tinybig.reconciliation import hm_reconciliation\n",
    "\n",
    "p, q = 2, 2\n",
    "rec_func_manual = hm_reconciliation(name='hm_reconciliation', p=p, q=q)\n",
    "\n",
    "n, D = 6, 12\n",
    "l = rec_func_manual.calculate_l(n=n, D=D)\n",
    "print('n:', n, '; D:', D, '; l:', l)\n",
    "\n",
    "w = torch.nn.Parameter(torch.randn(1, l), requires_grad=True)\n",
    "W = rec_func_manual(w=w, n=n, D=D)\n",
    "\n",
    "print(\"w vector shape:\", w.shape, \"; W matrix shape:\", W.shape)"
   ],
   "id": "3829fad658709686",
   "outputs": [
    {
     "name": "stdout",
     "output_type": "stream",
     "text": [
      "n: 6 ; D: 12 ; l: 22\n",
      "w vector shape: torch.Size([1, 22]) ; W matrix shape: torch.Size([6, 12])\n"
     ]
    }
   ],
   "execution_count": 29
  },
  {
   "metadata": {
    "ExecuteTime": {
     "end_time": "2024-11-28T21:12:43.054Z",
     "start_time": "2024-11-28T21:12:43.051373Z"
    }
   },
   "cell_type": "code",
   "source": [
    "import torch\n",
    "from tinybig.reconciliation import hm_reconciliation\n",
    "\n",
    "rec_func_auto = hm_reconciliation(name='hm_reconciliation')\n",
    "\n",
    "n, D = 6, 12\n",
    "l = rec_func_auto.calculate_l(n=n, D=D)\n",
    "print('n:', n, '; D:', D, '; l:', l)\n",
    "\n",
    "w = torch.nn.Parameter(torch.randn(1, l), requires_grad=True)\n",
    "W = rec_func_auto(w=w, n=n, D=D)\n",
    "\n",
    "print(\"w vector shape:\", w.shape, \"; W matrix shape:\", W.shape)"
   ],
   "id": "4dab2053b883ac00",
   "outputs": [
    {
     "name": "stdout",
     "output_type": "stream",
     "text": [
      "n: 6 ; D: 12 ; l: 18\n",
      "w vector shape: torch.Size([1, 18]) ; W matrix shape: torch.Size([6, 12])\n"
     ]
    }
   ],
   "execution_count": 32
  },
  {
   "metadata": {
    "ExecuteTime": {
     "end_time": "2024-11-28T21:30:09.778961Z",
     "start_time": "2024-11-28T21:30:09.774925Z"
    }
   },
   "cell_type": "code",
   "source": [
    "import torch\n",
    "from tinybig.reconciliation import lphm_reconciliation\n",
    "\n",
    "r = 1\n",
    "rec_func_auto = lphm_reconciliation(name='lphm_reconciliation', r=r)\n",
    "\n",
    "n, D = 6, 12\n",
    "l = rec_func_auto.calculate_l(n=n, D=D)\n",
    "print('n:', n, '; D:', D, '; l:', l)\n",
    "\n",
    "w = torch.nn.Parameter(torch.randn(1, l), requires_grad=True)\n",
    "W = rec_func_auto(w=w, n=n, D=D)\n",
    "\n",
    "print(\"w vector shape:\", w.shape, \"; W matrix shape:\", W.shape)"
   ],
   "id": "cb37123dfac9a7c",
   "outputs": [
    {
     "name": "stdout",
     "output_type": "stream",
     "text": [
      "n: 6 ; D: 12 ; l: 13\n",
      "w vector shape: torch.Size([1, 13]) ; W matrix shape: torch.Size([6, 12])\n"
     ]
    }
   ],
   "execution_count": 34
  },
  {
   "metadata": {
    "ExecuteTime": {
     "end_time": "2024-11-28T21:33:50.539490Z",
     "start_time": "2024-11-28T21:33:50.535375Z"
    }
   },
   "cell_type": "code",
   "source": [
    "import torch\n",
    "from tinybig.reconciliation import dual_lphm_reconciliation\n",
    "\n",
    "r = 1\n",
    "rec_func_auto = dual_lphm_reconciliation(name='dual_lphm_reconciliation', r=r)\n",
    "\n",
    "n, D = 6, 12\n",
    "l = rec_func_auto.calculate_l(n=n, D=D)\n",
    "print('n:', n, '; D:', D, '; l:', l)\n",
    "\n",
    "w = torch.nn.Parameter(torch.randn(1, l), requires_grad=True)\n",
    "W = rec_func_auto(w=w, n=n, D=D)\n",
    "\n",
    "print(\"w vector shape:\", w.shape, \"; W matrix shape:\", W.shape)"
   ],
   "id": "9b4633ce781ac2de",
   "outputs": [
    {
     "name": "stdout",
     "output_type": "stream",
     "text": [
      "n: 6 ; D: 12 ; l: 12\n",
      "w vector shape: torch.Size([1, 12]) ; W matrix shape: torch.Size([6, 12])\n"
     ]
    }
   ],
   "execution_count": 35
  },
  {
   "metadata": {
    "ExecuteTime": {
     "end_time": "2024-11-28T21:59:17.152774Z",
     "start_time": "2024-11-28T21:59:17.148478Z"
    }
   },
   "cell_type": "code",
   "source": [
    "import torch\n",
    "from tinybig.config.base_config import config\n",
    "\n",
    "parameter_reconciliation_configs = {\n",
    "    'parameter_reconciliation_class': 'tinybig.reconciliation.dual_lphm_reconciliation',\n",
    "    'parameter_reconciliation_parameters': {\n",
    "        'name': 'dual_lphm_reconciliation',\n",
    "        'p': 2,\n",
    "        'q': 3,\n",
    "        'r': 1,\n",
    "    }\n",
    "}\n",
    "\n",
    "rec_func = config.get_obj_from_str(parameter_reconciliation_configs['parameter_reconciliation_class'])(**parameter_reconciliation_configs['parameter_reconciliation_parameters'])\n",
    "\n",
    "n, D = 6, 12\n",
    "l = rec_func.calculate_l(n=n, D=D)\n",
    "print('n:', n, '; D:', D, '; l:', l)\n",
    "\n",
    "w = torch.nn.Parameter(torch.randn(1, l), requires_grad=True)\n",
    "W = rec_func(w=w, n=n, D=D)\n",
    "\n",
    "print(\"w vector shape:\", w.shape, \"; W matrix shape:\", W.shape)"
   ],
   "id": "c84ff5be32395f19",
   "outputs": [
    {
     "name": "stdout",
     "output_type": "stream",
     "text": [
      "n: 6 ; D: 12 ; l: 12\n",
      "w vector shape: torch.Size([1, 12]) ; W matrix shape: torch.Size([6, 12])\n"
     ]
    }
   ],
   "execution_count": 40
  },
  {
   "metadata": {
    "ExecuteTime": {
     "end_time": "2024-11-28T22:02:09.462283Z",
     "start_time": "2024-11-28T22:02:09.457936Z"
    }
   },
   "cell_type": "code",
   "source": [
    "from tinybig.config.base_config import config\n",
    "\n",
    "parameter_reconciliation_configs = {\n",
    "    'parameter_reconciliation_class': 'tinybig.reconciliation.dual_lphm_reconciliation',\n",
    "    'parameter_reconciliation_parameters': {\n",
    "        'name': 'dual_lphm_reconciliation',\n",
    "        'p': 2,\n",
    "        'q': 3,\n",
    "        'r': 1,\n",
    "    }\n",
    "}\n",
    "\n",
    "rec_func = config.instantiation_from_configs(configs=parameter_reconciliation_configs, class_name='parameter_reconciliation_class', parameter_name='parameter_reconciliation_parameters')"
   ],
   "id": "a3026eae62e71e41",
   "outputs": [
    {
     "name": "stdout",
     "output_type": "stream",
     "text": [
      "n: 6 ; D: 12 ; l: 12\n",
      "w vector shape: torch.Size([1, 12]) ; W matrix shape: torch.Size([6, 12])\n"
     ]
    }
   ],
   "execution_count": 41
  },
  {
   "metadata": {},
   "cell_type": "markdown",
   "source": "",
   "id": "fea6b4d5f9cd66a4"
  },
  {
   "metadata": {
    "ExecuteTime": {
     "end_time": "2024-11-28T22:11:32.945922Z",
     "start_time": "2024-11-28T22:11:32.942627Z"
    }
   },
   "cell_type": "code",
   "source": [
    "import torch\n",
    "from tinybig.config.base_config import config\n",
    "\n",
    "config_obj = config(name='dual_lphm_reconciliation_function_config')\n",
    "func_configs = config_obj.load_yaml(cache_dir='./configs', config_file='reconciliation_function_config.yaml')\n",
    "\n",
    "rec_func = config.instantiation_from_configs(configs=parameter_reconciliation_configs, class_name='parameter_reconciliation_class', parameter_name='parameter_reconciliation_parameters')\n",
    "\n",
    "n, D = 6, 12\n",
    "l = rec_func.calculate_l(n=n, D=D)\n",
    "print('n:', n, '; D:', D, '; l:', l)\n",
    "\n",
    "w = torch.nn.Parameter(torch.randn(1, l), requires_grad=True)\n",
    "W = rec_func(w=w, n=n, D=D)\n",
    "\n",
    "print(\"w vector shape:\", w.shape, \"; W matrix shape:\", W.shape)"
   ],
   "id": "b2e10eaf5c901d11",
   "outputs": [
    {
     "name": "stdout",
     "output_type": "stream",
     "text": [
      "n: 6 ; D: 12 ; l: 12\n",
      "w vector shape: torch.Size([1, 12]) ; W matrix shape: torch.Size([6, 12])\n"
     ]
    }
   ],
   "execution_count": 44
  }
 ],
 "metadata": {
  "kernelspec": {
   "display_name": "Python 3",
   "language": "python",
   "name": "python3"
  },
  "language_info": {
   "codemirror_mode": {
    "name": "ipython",
    "version": 2
   },
   "file_extension": ".py",
   "mimetype": "text/x-python",
   "name": "python",
   "nbconvert_exporter": "python",
   "pygments_lexer": "ipython2",
   "version": "2.7.6"
  }
 },
 "nbformat": 4,
 "nbformat_minor": 5
}
