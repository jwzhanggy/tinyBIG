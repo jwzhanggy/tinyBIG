{
 "cells": [
  {
   "metadata": {
    "ExecuteTime": {
     "end_time": "2024-12-02T00:24:34.131023Z",
     "start_time": "2024-12-02T00:24:32.648857Z"
    }
   },
   "cell_type": "code",
   "source": [
    "from tinybig.util import set_random_seed\n",
    "\n",
    "random_seed = 42\n",
    "set_random_seed(random_seed=random_seed)\n",
    "\n",
    "import torch\n",
    "from tinybig.interdependence import identity_interdependence\n",
    "\n",
    "b, m = 2, 4\n",
    "X = torch.randint(0, 10, (b, m), dtype=torch.float, device='cpu')\n",
    "\n",
    "attribute_interdep_func = identity_interdependence(\n",
    "    name='identity_interdependence', \n",
    "    interdependence_type='attribute', \n",
    "    b=b, m=m\n",
    ")\n",
    "\n",
    "m_prime = attribute_interdep_func.calculate_m_prime(m=m)\n",
    "attribute_A = attribute_interdep_func.calculate_A(x=X, device='cpu')\n",
    "attribute_xi_X = attribute_interdep_func(x=X, device='cpu')\n",
    "\n",
    "print('m_prime:', m_prime)\n",
    "print('X:', X)\n",
    "print('attribute_A:', attribute_A)\n",
    "print('attribute_xi_X:', attribute_xi_X)"
   ],
   "id": "9d690512feb82faa",
   "outputs": [
    {
     "name": "stdout",
     "output_type": "stream",
     "text": [
      "m_prime: 4\n",
      "X: tensor([[2., 7., 6., 4.],\n",
      "        [6., 5., 0., 4.]])\n",
      "attribute_A: tensor([[1., 0., 0., 0.],\n",
      "        [0., 1., 0., 0.],\n",
      "        [0., 0., 1., 0.],\n",
      "        [0., 0., 0., 1.]])\n",
      "attribute_xi_X: tensor([[2., 7., 6., 4.],\n",
      "        [6., 5., 0., 4.]])\n"
     ]
    }
   ],
   "execution_count": 1
  },
  {
   "metadata": {
    "ExecuteTime": {
     "end_time": "2024-12-02T00:24:34.135184Z",
     "start_time": "2024-12-02T00:24:34.131961Z"
    }
   },
   "cell_type": "code",
   "source": [
    "from tinybig.util import set_random_seed\n",
    "\n",
    "random_seed = 42\n",
    "set_random_seed(random_seed=random_seed)\n",
    "\n",
    "import torch\n",
    "from tinybig.interdependence import identity_interdependence\n",
    "\n",
    "b, m = 2, 4\n",
    "X = torch.randint(0, 10, (b, m), dtype=torch.float, device='cpu')\n",
    "\n",
    "instance_interdep_func = identity_interdependence(\n",
    "    name='identity_interdependence', \n",
    "    interdependence_type='instance', \n",
    "    b=b, m=m\n",
    ")\n",
    "\n",
    "b_prime = instance_interdep_func.calculate_b_prime(b=b)\n",
    "instance_A = instance_interdep_func.calculate_A(x=X, device='cpu')\n",
    "instance_xi_X = instance_interdep_func(x=X, device='cpu')\n",
    "\n",
    "print('b_prime:', b_prime)\n",
    "print('X:', X)\n",
    "print('instance_A:', instance_A)\n",
    "print('instance_xi_X:', instance_xi_X)\n"
   ],
   "id": "dde1067eaadfcfdd",
   "outputs": [
    {
     "name": "stdout",
     "output_type": "stream",
     "text": [
      "b_prime: 2\n",
      "X: tensor([[2., 7., 6., 4.],\n",
      "        [6., 5., 0., 4.]])\n",
      "instance_A: tensor([[1., 0.],\n",
      "        [0., 1.]])\n",
      "instance_xi_X: tensor([[2., 7., 6., 4.],\n",
      "        [6., 5., 0., 4.]])\n"
     ]
    }
   ],
   "execution_count": 2
  },
  {
   "metadata": {
    "ExecuteTime": {
     "end_time": "2024-12-02T00:24:34.138963Z",
     "start_time": "2024-12-02T00:24:34.135735Z"
    }
   },
   "cell_type": "code",
   "source": [
    "from tinybig.util import set_random_seed\n",
    "\n",
    "random_seed = 42\n",
    "set_random_seed(random_seed=random_seed)\n",
    "\n",
    "import torch\n",
    "from tinybig.interdependence import numerical_kernel_based_interdependence\n",
    "from tinybig.koala.linear_algebra import euclidean_distance_kernel\n",
    "\n",
    "b, m = 2, 4\n",
    "X = torch.randint(0, 10, (b, m), dtype=torch.float, device='cpu')\n",
    "\n",
    "stat_interdep_func = numerical_kernel_based_interdependence(\n",
    "    name='statistical_kernel_based_interdependence', \n",
    "    interdependence_type='attribute', \n",
    "    kernel=euclidean_distance_kernel,\n",
    "    b=b, m=m\n",
    ")\n",
    "\n",
    "m_prime = stat_interdep_func.calculate_m_prime(m=m)\n",
    "attribute_A = stat_interdep_func.calculate_A(x=X, device='cpu')\n",
    "attribute_xi_X = stat_interdep_func(x=X, device='cpu')\n",
    "\n",
    "print('m_prime:', m_prime)\n",
    "print('X:', X)\n",
    "print('attribute_A:', attribute_A)\n",
    "print('attribute_xi_X:', attribute_xi_X)"
   ],
   "id": "1a08862baa7dd5a7",
   "outputs": [
    {
     "name": "stdout",
     "output_type": "stream",
     "text": [
      "m_prime: 4\n",
      "X: tensor([[2., 7., 6., 4.],\n",
      "        [6., 5., 0., 4.]])\n",
      "attribute_A: tensor([[1.0000e+00, 6.1027e-03, 7.3834e-04, 5.9106e-02],\n",
      "        [6.1027e-03, 1.0000e+00, 6.1027e-03, 4.2329e-02],\n",
      "        [7.3834e-04, 6.1027e-03, 1.0000e+00, 1.1423e-02],\n",
      "        [5.9106e-02, 4.2329e-02, 1.1423e-02, 1.0000e+00]])\n",
      "attribute_xi_X: tensor([[2.2836, 7.2181, 6.0899, 4.4831],\n",
      "        [6.2669, 5.2059, 0.0806, 4.5663]])\n"
     ]
    }
   ],
   "execution_count": 3
  },
  {
   "metadata": {
    "ExecuteTime": {
     "end_time": "2024-12-02T00:24:34.142505Z",
     "start_time": "2024-12-02T00:24:34.139521Z"
    }
   },
   "cell_type": "code",
   "source": [
    "from tinybig.util import set_random_seed\n",
    "\n",
    "random_seed = 42\n",
    "set_random_seed(random_seed=random_seed)\n",
    "\n",
    "import torch\n",
    "from tinybig.interdependence import parameterized_interdependence\n",
    "\n",
    "b, m = 2, 4\n",
    "X = torch.randint(0, 10, (b, m), dtype=torch.float, device='cpu')\n",
    "\n",
    "para_interdep_func = parameterized_interdependence(\n",
    "    name='parameterized_interdependence', \n",
    "    interdependence_type='attribute', \n",
    "    b=b, m=m\n",
    ")\n",
    "\n",
    "l_xi = para_interdep_func.calculate_l()\n",
    "\n",
    "print('l_xi:', l_xi)\n",
    "w = torch.nn.Parameter(torch.randn(1, l_xi), requires_grad=True)\n",
    "\n",
    "m_prime = para_interdep_func.calculate_m_prime(m=m)\n",
    "attribute_A = para_interdep_func.calculate_A(x=X, w=w, device='cpu')\n",
    "attribute_xi_X = para_interdep_func(x=X, w=w, device='cpu')\n",
    "\n",
    "print('m_prime:', m_prime)\n",
    "print('X:', X)\n",
    "print('attribute_A:', attribute_A)\n",
    "print('attribute_xi_X:', attribute_xi_X)"
   ],
   "id": "e8305e2ca89fa4e",
   "outputs": [
    {
     "name": "stdout",
     "output_type": "stream",
     "text": [
      "l_xi: 16\n",
      "m_prime: 4\n",
      "X: tensor([[2., 7., 6., 4.],\n",
      "        [6., 5., 0., 4.]])\n",
      "attribute_A: tensor([[ 1.7878, -0.4780, -0.2429, -0.9342],\n",
      "        [-0.2483, -1.2082, -0.4777,  0.5201],\n",
      "        [-1.5673, -0.2394,  2.3228, -0.9634],\n",
      "        [ 2.0024,  0.4664,  1.5730, -0.9228]], grad_fn=<ViewBackward0>)\n",
      "attribute_xi_X: tensor([[ 0.4435, -8.9845, 16.3996, -7.6989],\n",
      "        [17.4951, -7.0436,  2.4466, -6.6956]], grad_fn=<MmBackward0>)\n"
     ]
    }
   ],
   "execution_count": 4
  },
  {
   "metadata": {
    "ExecuteTime": {
     "end_time": "2024-12-02T00:24:34.147129Z",
     "start_time": "2024-12-02T00:24:34.143588Z"
    }
   },
   "cell_type": "code",
   "source": [
    "from tinybig.util import set_random_seed\n",
    "\n",
    "random_seed = 42\n",
    "set_random_seed(random_seed=random_seed)\n",
    "\n",
    "import torch\n",
    "from tinybig.interdependence import lowrank_parameterized_bilinear_interdependence\n",
    "\n",
    "b, m = 2, 4\n",
    "X = torch.randint(0, 10, (b, m), dtype=torch.float, device='cpu')\n",
    "\n",
    "bilinear_interdep_func = lowrank_parameterized_bilinear_interdependence(\n",
    "    name='lowrank_parameterized_bilinear_interdependence', \n",
    "    interdependence_type='attribute', \n",
    "    r=1, b=b, m=m\n",
    ")\n",
    "\n",
    "l_xi = bilinear_interdep_func.calculate_l()\n",
    "\n",
    "print('l_xi:', l_xi)\n",
    "w = torch.nn.Parameter(torch.randn(1, l_xi), requires_grad=True)\n",
    "\n",
    "m_prime = bilinear_interdep_func.calculate_m_prime(m=m)\n",
    "attribute_A = bilinear_interdep_func.calculate_A(x=X, w=w, device='cpu')\n",
    "attribute_xi_X = bilinear_interdep_func(x=X, w=w, device='cpu')\n",
    "\n",
    "print('m_prime:', m_prime)\n",
    "print('X:', X)\n",
    "print('attribute_A:', attribute_A)\n",
    "print('attribute_xi_X:', attribute_xi_X)"
   ],
   "id": "e208400eebd6b4b3",
   "outputs": [
    {
     "name": "stdout",
     "output_type": "stream",
     "text": [
      "l_xi: 4\n",
      "m_prime: 4\n",
      "X: tensor([[2., 7., 6., 4.],\n",
      "        [6., 5., 0., 4.]])\n",
      "attribute_A: tensor([[  -1.9793,  -41.2637,  -44.5661,  -21.1267],\n",
      "        [  -5.1732, -107.8507, -116.4822,  -55.2187],\n",
      "        [  -3.9643,  -82.6473,  -89.2617,  -42.3147],\n",
      "        [  -3.0814,  -64.2413,  -69.3826,  -32.8910]], grad_fn=<MmBackward0>)\n",
      "attribute_xi_X: tensor([[  -76.2820, -1590.3319, -1717.6089,  -814.2365],\n",
      "        [  -50.0671, -1043.8013, -1127.3385,  -534.4174]],\n",
      "       grad_fn=<MmBackward0>)\n"
     ]
    }
   ],
   "execution_count": 5
  },
  {
   "metadata": {
    "ExecuteTime": {
     "end_time": "2024-12-02T00:24:34.151849Z",
     "start_time": "2024-12-02T00:24:34.147638Z"
    }
   },
   "cell_type": "code",
   "source": [
    "from tinybig.util import set_random_seed\n",
    "\n",
    "random_seed = 42\n",
    "set_random_seed(random_seed=random_seed)\n",
    "\n",
    "import torch\n",
    "\n",
    "b, m = 2, 4\n",
    "X = torch.randint(0, 10, (b, m), dtype=torch.float, device='cpu')\n",
    "\n",
    "from tinybig.config.base_config import config\n",
    "\n",
    "config_obj = config(name='data_interdependence_function_config')\n",
    "func_configs = config_obj.load_yaml(cache_dir='./configs', config_file='data_interdependence_function_config.yaml')\n",
    "\n",
    "bilinear_interdep_func = config.instantiation_from_configs(\n",
    "    configs=func_configs['data_interdependence_function_configs'], \n",
    "    class_name='data_interdependence_function_class', \n",
    "    parameter_name='data_interdependence_function_parameters'\n",
    ")\n",
    "\n",
    "l_xi = bilinear_interdep_func.calculate_l()\n",
    "\n",
    "print('l_xi:', l_xi)\n",
    "w = torch.nn.Parameter(torch.randn(1, l_xi), requires_grad=True)\n",
    "\n",
    "m_prime = bilinear_interdep_func.calculate_m_prime(m=m)\n",
    "attribute_A = bilinear_interdep_func.calculate_A(x=X, w=w, device='cpu')\n",
    "attribute_xi_X = bilinear_interdep_func(x=X, w=w, device='cpu')\n",
    "\n",
    "print('m_prime:', m_prime)\n",
    "print('X:', X)\n",
    "print('attribute_A:', attribute_A)\n",
    "print('attribute_xi_X:', attribute_xi_X)"
   ],
   "id": "24ea7800691f9fe1",
   "outputs": [
    {
     "name": "stdout",
     "output_type": "stream",
     "text": [
      "l_xi: 4\n",
      "m_prime: 4\n",
      "X: tensor([[2., 7., 6., 4.],\n",
      "        [6., 5., 0., 4.]])\n",
      "attribute_A: tensor([[  -1.9793,  -41.2637,  -44.5661,  -21.1267],\n",
      "        [  -5.1732, -107.8507, -116.4822,  -55.2187],\n",
      "        [  -3.9643,  -82.6473,  -89.2617,  -42.3147],\n",
      "        [  -3.0814,  -64.2413,  -69.3826,  -32.8910]], grad_fn=<MmBackward0>)\n",
      "attribute_xi_X: tensor([[  -76.2820, -1590.3319, -1717.6089,  -814.2365],\n",
      "        [  -50.0671, -1043.8013, -1127.3385,  -534.4174]],\n",
      "       grad_fn=<MmBackward0>)\n"
     ]
    }
   ],
   "execution_count": 6
  }
 ],
 "metadata": {
  "kernelspec": {
   "display_name": "Python 3",
   "language": "python",
   "name": "python3"
  },
  "language_info": {
   "codemirror_mode": {
    "name": "ipython",
    "version": 2
   },
   "file_extension": ".py",
   "mimetype": "text/x-python",
   "name": "python",
   "nbconvert_exporter": "python",
   "pygments_lexer": "ipython2",
   "version": "2.7.6"
  }
 },
 "nbformat": 4,
 "nbformat_minor": 5
}
