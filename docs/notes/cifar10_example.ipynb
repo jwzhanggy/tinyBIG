{
 "cells": [
  {
   "cell_type": "code",
   "id": "7c221a97b79087f1",
   "metadata": {
    "collapsed": true,
    "ExecuteTime": {
     "end_time": "2024-10-14T06:36:50.076174Z",
     "start_time": "2024-10-14T06:36:48.600652Z"
    }
   },
   "source": [
    "from tinybig.config import config\n",
    "from tinybig.util import set_random_seed\n",
    "\n",
    "print('loading configs...')\n",
    "config_file_name = 'cifar10_configs'\n",
    "config_obj = config()\n",
    "config = config_obj.load_yaml(cache_dir='./configs', config_file=config_file_name + '.yaml')\n",
    "print(config)"
   ],
   "outputs": [
    {
     "name": "stdout",
     "output_type": "stream",
     "text": [
      "loading configs...\n",
      "{'configurations': {'device': 'mps', 'random_seed': 1234, 'data_configs': {'data_class': 'tinybig.data.cifar10', 'data_parameters': {'name': 'mnist', 'train_batch_size': 64, 'test_batch_size': 64}}, 'learner_configs': {'learner_class': 'tinybig.learner.backward_learner', 'learner_parameters': {'name': 'error_backward_propagation', 'n_epochs': 11, 'optimizer_configs': {'optimizer_class': 'torch.optim.AdamW', 'optimizer_parameters': {'lr': 0.0017, 'weight_decay': 1e-05}}, 'lr_scheduler_configs': {'lr_scheduler_class': 'torch.optim.lr_scheduler.ExponentialLR', 'lr_scheduler_parameters': {'gamma': 0.65}}, 'loss_configs': {'loss_class': 'torch.nn.CrossEntropyLoss', 'loss_parameters': {'reduction': 'mean'}}}}, 'model_configs': {'model_class': 'tinybig.model.rpn', 'model_parameters': {'device': 'mps', 'name': 'reconciled_polynomial_network', 'depth': 3, 'depth_alloc': [1, 1, 1], 'layer_configs': [{'layer_class': 'tinybig.module.rpn_layer', 'layer_parameters': {'name': 'rpn_layer', 'm': 3072, 'n': 512, 'width': 1, 'width_alloc': [1], 'head_configs': [{'head_class': 'tinybig.module.rpn_head', 'head_parameters': {'l': None, 'channel_num': 1, 'data_transformation_configs': {'function_class': 'tinybig.expansion.identity_expansion', 'function_parameters': {'name': 'identity_expansion'}}, 'parameter_fabrication_configs': {'function_class': 'tinybig.reconciliation.identity_reconciliation', 'function_parameters': {'name': 'identity_reconciliation'}}, 'remainder_configs': {'function_class': 'tinybig.remainder.zero_remainder', 'function_parameters': {'name': 'zero_remainder'}}, 'output_process_function_configs': [{'function_class': 'torch.nn.GELU'}, {'function_class': 'torch.nn.BatchNorm1d', 'function_parameters': {'num_features': 512, 'device': 'mps'}}]}}]}}, {'layer_class': 'tinybig.module.rpn_layer', 'layer_parameters': {'name': 'rpn_layer', 'm': 512, 'n': 256, 'width': None, 'width_alloc': [1], 'head_configs': [{'head_class': 'tinybig.module.rpn_head', 'head_parameters': {'l': None, 'channel_num': 1, 'data_transformation_configs': {'function_class': 'tinybig.expansion.identity_expansion', 'function_parameters': {'name': 'identity_expansion'}}, 'parameter_fabrication_configs': {'function_class': 'tinybig.reconciliation.identity_reconciliation', 'function_parameters': {'name': 'identity_reconciliation'}}, 'remainder_configs': {'function_class': 'tinybig.remainder.zero_remainder', 'function_parameters': {'name': 'zero_remainder'}}, 'output_process_function_configs': [{'function_class': 'torch.nn.GELU'}, {'function_class': 'torch.nn.BatchNorm1d', 'function_parameters': {'num_features': 256, 'device': 'mps'}}]}}]}}, {'layer_class': 'tinybig.module.rpn_layer', 'layer_parameters': {'name': 'rpn_layer', 'm': 256, 'n': 10, 'width': None, 'width_alloc': [1], 'head_configs': [{'head_class': 'tinybig.module.rpn_head', 'head_parameters': {'l': None, 'channel_num': 1, 'data_transformation_configs': {'function_class': 'tinybig.expansion.identity_expansion', 'function_parameters': {'name': 'identity_expansion'}}, 'parameter_fabrication_configs': {'function_class': 'tinybig.reconciliation.identity_reconciliation', 'function_parameters': {'name': 'identity_reconciliation'}}, 'remainder_configs': {'function_class': 'tinybig.remainder.zero_remainder', 'function_parameters': {'name': 'zero_remainder'}}}}]}}]}}, 'metric_configs': {'metric_class': 'tinybig.metric.accuracy', 'metric_parameters': {'name': 'accuracy'}}, 'output_configs': {'output_class': 'tinybig.output.rpn_output', 'output_parameters': {'name': 'prediction_output'}}}}\n"
     ]
    }
   ],
   "execution_count": 1
  },
  {
   "metadata": {
    "ExecuteTime": {
     "end_time": "2024-10-14T06:36:50.092123Z",
     "start_time": "2024-10-14T06:36:50.077121Z"
    }
   },
   "cell_type": "code",
   "source": [
    "print('setting up environments...')\n",
    "device = config['configurations'].pop('device')\n",
    "random_seed = config['configurations'].pop('random_seed')\n",
    "set_random_seed(random_seed)\n",
    "print('device: ', device, '; random_seed: ', random_seed)"
   ],
   "id": "initial_id",
   "outputs": [
    {
     "name": "stdout",
     "output_type": "stream",
     "text": [
      "setting up environments...\n",
      "device:  mps ; random_seed:  1234\n"
     ]
    }
   ],
   "execution_count": 2
  },
  {
   "metadata": {
    "ExecuteTime": {
     "end_time": "2024-10-14T06:36:50.279592Z",
     "start_time": "2024-10-14T06:36:50.092656Z"
    }
   },
   "cell_type": "code",
   "source": [
    "print('instantiating objects from config...')\n",
    "data_obj, model_obj, learner_obj, metric_obj, result_obj = [config_obj.instantiation_from_configs(config['configurations'][f'{stem}_configs'], device=device, class_name=f'{stem}_class', parameter_name=f'{stem}_parameters') for stem in ['data', 'model', 'learner', 'metric', 'output']]\n",
    "\n",
    "print('parameter num: ', sum([parameter.numel() for parameter in model_obj.parameters()]))\n"
   ],
   "id": "8b522a245bba00cb",
   "outputs": [
    {
     "name": "stdout",
     "output_type": "stream",
     "text": [
      "instantiating objects from config...\n",
      "parameter num:  1706496\n"
     ]
    }
   ],
   "execution_count": 3
  },
  {
   "metadata": {
    "ExecuteTime": {
     "end_time": "2024-10-14T06:36:51.582621Z",
     "start_time": "2024-10-14T06:36:50.280277Z"
    }
   },
   "cell_type": "code",
   "source": [
    "print('loading dataset...')\n",
    "data_loader = data_obj.load()"
   ],
   "id": "914f0e5c4e1b0ab0",
   "outputs": [
    {
     "name": "stdout",
     "output_type": "stream",
     "text": [
      "loading dataset...\n",
      "Files already downloaded and verified\n",
      "Files already downloaded and verified\n"
     ]
    }
   ],
   "execution_count": 4
  },
  {
   "metadata": {
    "ExecuteTime": {
     "end_time": "2024-10-14T06:38:11.984541Z",
     "start_time": "2024-10-14T06:36:51.584040Z"
    }
   },
   "cell_type": "code",
   "source": [
    "print('training model...')\n",
    "training_records = learner_obj.train(model=model_obj, data_loader=data_loader, device=device, metric=metric_obj)\n",
    "model_obj.save_ckpt(cache_dir='./ckpt', checkpoint_file=f'{config_file_name}_checkpoint')"
   ],
   "id": "4c528b7582b2a803",
   "outputs": [
    {
     "name": "stdout",
     "output_type": "stream",
     "text": [
      "training model...\n"
     ]
    },
    {
     "name": "stderr",
     "output_type": "stream",
     "text": [
      "100%|██████████| 782/782 [00:07<00:00, 110.46it/s, epoch=0/11, loss=1.22, lr=0.0017, metric_score=0.562, time=7.09]\n"
     ]
    },
    {
     "name": "stdout",
     "output_type": "stream",
     "text": [
      "Epoch: 0, Test Loss: 1.4943674499062216, Test Score: 0.4684, Time Cost: 0.7942781448364258\n"
     ]
    },
    {
     "name": "stderr",
     "output_type": "stream",
     "text": [
      "100%|██████████| 782/782 [00:06<00:00, 119.26it/s, epoch=1/11, loss=1.44, lr=0.00111, metric_score=0.438, time=14.4]\n"
     ]
    },
    {
     "name": "stdout",
     "output_type": "stream",
     "text": [
      "Epoch: 1, Test Loss: 1.4050911573847389, Test Score: 0.5037, Time Cost: 0.7902069091796875\n"
     ]
    },
    {
     "name": "stderr",
     "output_type": "stream",
     "text": [
      "100%|██████████| 782/782 [00:06<00:00, 120.40it/s, epoch=2/11, loss=1.68, lr=0.000718, metric_score=0.562, time=21.7] \n"
     ]
    },
    {
     "name": "stdout",
     "output_type": "stream",
     "text": [
      "Epoch: 2, Test Loss: 1.3539206761463431, Test Score: 0.5221, Time Cost: 0.8560678958892822\n"
     ]
    },
    {
     "name": "stderr",
     "output_type": "stream",
     "text": [
      "100%|██████████| 782/782 [00:06<00:00, 117.75it/s, epoch=3/11, loss=1, lr=0.000467, metric_score=0.5, time=29.2]      \n"
     ]
    },
    {
     "name": "stdout",
     "output_type": "stream",
     "text": [
      "Epoch: 3, Test Loss: 1.3075649457372678, Test Score: 0.5445, Time Cost: 0.7910540103912354\n"
     ]
    },
    {
     "name": "stderr",
     "output_type": "stream",
     "text": [
      "100%|██████████| 782/782 [00:06<00:00, 119.53it/s, epoch=4/11, loss=1.04, lr=0.000303, metric_score=0.688, time=36.6] \n"
     ]
    },
    {
     "name": "stdout",
     "output_type": "stream",
     "text": [
      "Epoch: 4, Test Loss: 1.3032362020699082, Test Score: 0.5447, Time Cost: 0.7970099449157715\n"
     ]
    },
    {
     "name": "stderr",
     "output_type": "stream",
     "text": [
      "100%|██████████| 782/782 [00:06<00:00, 121.06it/s, epoch=5/11, loss=1.2, lr=0.000197, metric_score=0.562, time=43.8]  \n"
     ]
    },
    {
     "name": "stdout",
     "output_type": "stream",
     "text": [
      "Epoch: 5, Test Loss: 1.3027622308700708, Test Score: 0.5514, Time Cost: 0.7972416877746582\n"
     ]
    },
    {
     "name": "stderr",
     "output_type": "stream",
     "text": [
      "100%|██████████| 782/782 [00:06<00:00, 123.37it/s, epoch=6/11, loss=0.839, lr=0.000128, metric_score=0.562, time=51]  \n"
     ]
    },
    {
     "name": "stdout",
     "output_type": "stream",
     "text": [
      "Epoch: 6, Test Loss: 1.2988257206928957, Test Score: 0.5552, Time Cost: 0.7944300174713135\n"
     ]
    },
    {
     "name": "stderr",
     "output_type": "stream",
     "text": [
      "100%|██████████| 782/782 [00:06<00:00, 123.74it/s, epoch=7/11, loss=0.795, lr=8.33e-5, metric_score=0.625, time=58.1]\n"
     ]
    },
    {
     "name": "stdout",
     "output_type": "stream",
     "text": [
      "Epoch: 7, Test Loss: 1.3129910245822494, Test Score: 0.5597, Time Cost: 0.7942390441894531\n"
     ]
    },
    {
     "name": "stderr",
     "output_type": "stream",
     "text": [
      "100%|██████████| 782/782 [00:06<00:00, 118.96it/s, epoch=8/11, loss=1.1, lr=5.42e-5, metric_score=0.562, time=65.4]  \n"
     ]
    },
    {
     "name": "stdout",
     "output_type": "stream",
     "text": [
      "Epoch: 8, Test Loss: 1.3102326032462392, Test Score: 0.5609, Time Cost: 0.8306679725646973\n"
     ]
    },
    {
     "name": "stderr",
     "output_type": "stream",
     "text": [
      "100%|██████████| 782/782 [00:06<00:00, 122.90it/s, epoch=9/11, loss=0.337, lr=3.52e-5, metric_score=0.875, time=72.6]\n"
     ]
    },
    {
     "name": "stdout",
     "output_type": "stream",
     "text": [
      "Epoch: 9, Test Loss: 1.3199590900141722, Test Score: 0.5605, Time Cost: 0.7934930324554443\n"
     ]
    },
    {
     "name": "stderr",
     "output_type": "stream",
     "text": [
      "100%|██████████| 782/782 [00:06<00:00, 126.97it/s, epoch=10/11, loss=1.05, lr=2.29e-5, metric_score=0.562, time=79.6] \n"
     ]
    },
    {
     "name": "stdout",
     "output_type": "stream",
     "text": [
      "Epoch: 10, Test Loss: 1.3242781253377343, Test Score: 0.5623, Time Cost: 0.7955598831176758\n",
      "model checkpoint saving to ./ckpt/cifar10_configs_checkpoint...\n"
     ]
    }
   ],
   "execution_count": 5
  },
  {
   "metadata": {
    "ExecuteTime": {
     "end_time": "2024-10-14T06:38:12.807095Z",
     "start_time": "2024-10-14T06:38:11.985084Z"
    }
   },
   "cell_type": "code",
   "source": [
    "print('testing model...')\n",
    "test_result = learner_obj.test(model=model_obj, test_loader=data_loader['test_loader'], device=device,\n",
    "                               metric=metric_obj)"
   ],
   "id": "98bcda38c9c93421",
   "outputs": [
    {
     "name": "stdout",
     "output_type": "stream",
     "text": [
      "testing model...\n"
     ]
    }
   ],
   "execution_count": 6
  },
  {
   "metadata": {
    "ExecuteTime": {
     "end_time": "2024-10-14T06:38:12.811410Z",
     "start_time": "2024-10-14T06:38:12.807828Z"
    }
   },
   "cell_type": "code",
   "source": [
    "print('evaluating result...')\n",
    "print(metric_obj.__class__.__name__, metric_obj.evaluate(y_true=test_result['y_true'], y_pred=test_result['y_pred'], y_score=test_result['y_score'], ))"
   ],
   "id": "9f3f9ac63f65af4c",
   "outputs": [
    {
     "name": "stdout",
     "output_type": "stream",
     "text": [
      "evaluating result...\n",
      "accuracy 0.5623\n"
     ]
    }
   ],
   "execution_count": 7
  },
  {
   "metadata": {
    "ExecuteTime": {
     "end_time": "2024-10-14T06:38:12.817027Z",
     "start_time": "2024-10-14T06:38:12.812071Z"
    }
   },
   "cell_type": "code",
   "source": [
    "print('saving result...')\n",
    "result_obj.save(test_result, cache_dir='./result', output_file='{}_result'.format(config_file_name))\n",
    "result_obj.save(training_records, cache_dir='./result', output_file='{}_record'.format(config_file_name))"
   ],
   "id": "186c8c0e86d98969",
   "outputs": [
    {
     "name": "stdout",
     "output_type": "stream",
     "text": [
      "saving result...\n"
     ]
    }
   ],
   "execution_count": 8
  }
 ],
 "metadata": {
  "kernelspec": {
   "display_name": "Python 3",
   "language": "python",
   "name": "python3"
  },
  "language_info": {
   "codemirror_mode": {
    "name": "ipython",
    "version": 2
   },
   "file_extension": ".py",
   "mimetype": "text/x-python",
   "name": "python",
   "nbconvert_exporter": "python",
   "pygments_lexer": "ipython2",
   "version": "2.7.6"
  }
 },
 "nbformat": 4,
 "nbformat_minor": 5
}
