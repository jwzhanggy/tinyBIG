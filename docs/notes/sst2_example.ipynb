{
 "cells": [
  {
   "cell_type": "code",
   "id": "7c221a97b79087f1",
   "metadata": {
    "collapsed": true,
    "ExecuteTime": {
     "end_time": "2024-10-14T08:49:57.083660Z",
     "start_time": "2024-10-14T08:49:57.076856Z"
    }
   },
   "source": [
    "from tinybig.config import config\n",
    "from tinybig.util import set_random_seed\n",
    "\n",
    "print('loading configs...')\n",
    "config_file_name = 'sst2_configs'\n",
    "config_obj = config()\n",
    "config = config_obj.load_yaml(cache_dir='./configs', config_file=config_file_name + '.yaml')\n",
    "print(config)"
   ],
   "outputs": [
    {
     "name": "stdout",
     "output_type": "stream",
     "text": [
      "loading configs...\n",
      "{'configurations': {'device': 'mps', 'random_seed': 1234, 'data_configs': {'data_class': 'tinybig.data.sst2', 'data_parameters': {'name': 'sst2', 'train_batch_size': 64, 'test_batch_size': 64}}, 'learner_configs': {'learner_class': 'tinybig.learner.backward_learner', 'learner_parameters': {'name': 'error_backward_propagation', 'n_epochs': 10, 'optimizer_configs': {'optimizer_class': 'torch.optim.AdamW', 'optimizer_parameters': {'lr': 0.00086}}, 'lr_scheduler_configs': {'lr_scheduler_class': 'torch.optim.lr_scheduler.ExponentialLR', 'lr_scheduler_parameters': {'gamma': 0.5}}, 'loss_configs': {'loss_class': 'torch.nn.CrossEntropyLoss', 'loss_parameters': {'reduction': 'mean'}}}}, 'model_configs': {'model_class': 'tinybig.model.rpn', 'model_parameters': {'device': 'mps', 'name': 'reconciled_polynomial_network', 'depth': 3, 'depth_alloc': [1, 1, 1], 'layer_configs': [{'layer_class': 'tinybig.module.rpn_layer', 'layer_parameters': {'name': 'rpn_layer', 'm': 10325, 'n': 128, 'width': 1, 'width_alloc': [1], 'head_configs': [{'head_class': 'tinybig.module.rpn_head', 'head_parameters': {'l': None, 'channel_num': 1, 'output_process_function_configs': {'function_class': 'torch.nn.Dropout', 'function_parameters': {'p': 0.4}}, 'data_transformation_configs': {'function_class': 'tinybig.expansion.identity_expansion', 'function_parameters': {'name': 'identity_expansion'}}, 'parameter_fabrication_configs': {'function_class': 'tinybig.reconciliation.lorr_reconciliation', 'function_parameters': {'name': 'lorr_reconciliation', 'r': 5}}, 'remainder_configs': {'function_class': 'tinybig.remainder.zero_remainder', 'function_parameters': {'name': 'zero_remainder'}}}}]}}, {'layer_class': 'tinybig.module.rpn_layer', 'layer_parameters': {'name': 'rpn_layer', 'm': 128, 'n': 32, 'width': 1, 'width_alloc': [1], 'head_configs': [{'head_class': 'tinybig.module.rpn_head', 'head_parameters': {'l': None, 'channel_num': 1, 'output_process_function_configs': {'function_class': 'torch.nn.Dropout', 'function_parameters': {'p': 0.4}}, 'data_transformation_configs': {'function_class': 'tinybig.expansion.identity_expansion', 'function_parameters': {'name': 'identity_expansion'}}, 'parameter_fabrication_configs': {'function_class': 'tinybig.reconciliation.lorr_reconciliation', 'function_parameters': {'name': 'lorr_reconciliation', 'r': 5}}, 'remainder_configs': {'function_class': 'tinybig.remainder.zero_remainder', 'function_parameters': {'name': 'zero_remainder'}}}}]}}, {'layer_class': 'tinybig.module.rpn_layer', 'layer_parameters': {'name': 'rpn_layer', 'm': 32, 'n': 2, 'width': 1, 'width_alloc': [1], 'head_configs': [{'head_class': 'tinybig.module.rpn_head', 'head_parameters': {'l': None, 'channel_num': 1, 'data_transformation_configs': {'function_class': 'tinybig.expansion.identity_expansion', 'function_parameters': {'name': 'identity_expansion'}}, 'parameter_fabrication_configs': {'function_class': 'tinybig.reconciliation.lorr_reconciliation', 'function_parameters': {'name': 'lorr_reconciliation', 'r': 5, 'enable_bias': True}}, 'remainder_configs': {'function_class': 'tinybig.remainder.zero_remainder', 'function_parameters': {'name': 'zero_remainder'}}}}]}}]}}, 'metric_configs': {'metric_class': 'tinybig.metric.accuracy', 'metric_parameters': {'name': 'accuracy'}}, 'output_configs': {'output_class': 'tinybig.output.rpn_output', 'output_parameters': {'name': 'prediction_output'}}}}\n"
     ]
    }
   ],
   "execution_count": 41
  },
  {
   "metadata": {
    "ExecuteTime": {
     "end_time": "2024-10-14T08:49:57.087295Z",
     "start_time": "2024-10-14T08:49:57.084663Z"
    }
   },
   "cell_type": "code",
   "source": [
    "print('setting up environments...')\n",
    "device = config['configurations'].pop('device')\n",
    "random_seed = config['configurations'].pop('random_seed')\n",
    "set_random_seed(random_seed)\n",
    "print('device: ', device, '; random_seed: ', random_seed)"
   ],
   "id": "initial_id",
   "outputs": [
    {
     "name": "stdout",
     "output_type": "stream",
     "text": [
      "setting up environments...\n",
      "device:  mps ; random_seed:  1234\n"
     ]
    }
   ],
   "execution_count": 42
  },
  {
   "metadata": {
    "ExecuteTime": {
     "end_time": "2024-10-14T08:49:57.091279Z",
     "start_time": "2024-10-14T08:49:57.087969Z"
    }
   },
   "cell_type": "code",
   "source": [
    "print('instantiating objects from config...')\n",
    "data_obj, model_obj, learner_obj, metric_obj, result_obj = [config_obj.instantiation_from_configs(config['configurations'][f'{stem}_configs'], device=device, class_name=f'{stem}_class', parameter_name=f'{stem}_parameters') for stem in ['data', 'model', 'learner', 'metric', 'output']]\n",
    "print('parameter num: ', sum([parameter.numel() for parameter in model_obj.parameters()]))"
   ],
   "id": "8b522a245bba00cb",
   "outputs": [
    {
     "name": "stdout",
     "output_type": "stream",
     "text": [
      "instantiating objects from config...\n",
      "parameter num:  53237\n"
     ]
    }
   ],
   "execution_count": 43
  },
  {
   "metadata": {
    "ExecuteTime": {
     "end_time": "2024-10-14T08:49:58.254417Z",
     "start_time": "2024-10-14T08:49:57.092347Z"
    }
   },
   "cell_type": "code",
   "source": [
    "print('loading dataset...')\n",
    "data_loader = data_obj.load()"
   ],
   "id": "914f0e5c4e1b0ab0",
   "outputs": [
    {
     "name": "stdout",
     "output_type": "stream",
     "text": [
      "loading dataset...\n"
     ]
    }
   ],
   "execution_count": 44
  },
  {
   "metadata": {
    "ExecuteTime": {
     "end_time": "2024-10-14T08:50:54.772890Z",
     "start_time": "2024-10-14T08:49:58.255284Z"
    }
   },
   "cell_type": "code",
   "source": [
    "print('training model...')\n",
    "training_records = learner_obj.train(model=model_obj, data_loader=data_loader, device=device, metric=metric_obj)\n",
    "model_obj.save_ckpt(cache_dir='./ckpt', checkpoint_file=f'{config_file_name}_checkpoint')"
   ],
   "id": "4c528b7582b2a803",
   "outputs": [
    {
     "name": "stdout",
     "output_type": "stream",
     "text": [
      "training model...\n"
     ]
    },
    {
     "name": "stderr",
     "output_type": "stream",
     "text": [
      "100%|██████████| 1053/1053 [00:05<00:00, 195.69it/s, epoch=0/10, loss=0.297, lr=0.00086, metric_score=0.81, time=5.38] \n"
     ]
    },
    {
     "name": "stdout",
     "output_type": "stream",
     "text": [
      "Epoch: 0, Test Loss: 0.47645197595868793, Test Score: 0.7786697247706422, Time Cost: 0.034262895584106445\n"
     ]
    },
    {
     "name": "stderr",
     "output_type": "stream",
     "text": [
      "100%|██████████| 1053/1053 [00:05<00:00, 184.46it/s, epoch=1/10, loss=0.179, lr=0.00043, metric_score=0.952, time=11.1]\n"
     ]
    },
    {
     "name": "stdout",
     "output_type": "stream",
     "text": [
      "Epoch: 1, Test Loss: 0.45901251477854593, Test Score: 0.8061926605504587, Time Cost: 0.034803152084350586\n"
     ]
    },
    {
     "name": "stderr",
     "output_type": "stream",
     "text": [
      "100%|██████████| 1053/1053 [00:05<00:00, 186.04it/s, epoch=2/10, loss=0.277, lr=0.000215, metric_score=0.905, time=16.8]\n"
     ]
    },
    {
     "name": "stdout",
     "output_type": "stream",
     "text": [
      "Epoch: 2, Test Loss: 0.4736702676330294, Test Score: 0.8027522935779816, Time Cost: 0.0348210334777832\n"
     ]
    },
    {
     "name": "stderr",
     "output_type": "stream",
     "text": [
      "100%|██████████| 1053/1053 [00:05<00:00, 186.23it/s, epoch=3/10, loss=0.104, lr=0.000107, metric_score=1, time=22.5]     \n"
     ]
    },
    {
     "name": "stdout",
     "output_type": "stream",
     "text": [
      "Epoch: 3, Test Loss: 0.4850986408335822, Test Score: 0.8061926605504587, Time Cost: 0.03433513641357422\n"
     ]
    },
    {
     "name": "stderr",
     "output_type": "stream",
     "text": [
      "100%|██████████| 1053/1053 [00:05<00:00, 186.02it/s, epoch=4/10, loss=0.124, lr=5.37e-5, metric_score=0.952, time=28.2] \n"
     ]
    },
    {
     "name": "stdout",
     "output_type": "stream",
     "text": [
      "Epoch: 4, Test Loss: 0.4850282392331532, Test Score: 0.805045871559633, Time Cost: 0.03380393981933594\n"
     ]
    },
    {
     "name": "stderr",
     "output_type": "stream",
     "text": [
      "100%|██████████| 1053/1053 [00:05<00:00, 187.56it/s, epoch=5/10, loss=0.0739, lr=2.69e-5, metric_score=1, time=33.9]    \n"
     ]
    },
    {
     "name": "stdout",
     "output_type": "stream",
     "text": [
      "Epoch: 5, Test Loss: 0.4837167135306767, Test Score: 0.8027522935779816, Time Cost: 0.034027814865112305\n"
     ]
    },
    {
     "name": "stderr",
     "output_type": "stream",
     "text": [
      "100%|██████████| 1053/1053 [00:05<00:00, 187.09it/s, epoch=6/10, loss=0.0951, lr=1.34e-5, metric_score=1, time=39.5]    \n"
     ]
    },
    {
     "name": "stdout",
     "output_type": "stream",
     "text": [
      "Epoch: 6, Test Loss: 0.4871334731578827, Test Score: 0.8038990825688074, Time Cost: 0.034384965896606445\n"
     ]
    },
    {
     "name": "stderr",
     "output_type": "stream",
     "text": [
      "100%|██████████| 1053/1053 [00:05<00:00, 188.73it/s, epoch=7/10, loss=0.193, lr=6.72e-6, metric_score=0.81, time=45.1]  \n"
     ]
    },
    {
     "name": "stdout",
     "output_type": "stream",
     "text": [
      "Epoch: 7, Test Loss: 0.48859440854617525, Test Score: 0.8038990825688074, Time Cost: 0.03393888473510742\n"
     ]
    },
    {
     "name": "stderr",
     "output_type": "stream",
     "text": [
      "100%|██████████| 1053/1053 [00:05<00:00, 182.71it/s, epoch=8/10, loss=0.117, lr=3.36e-6, metric_score=0.952, time=50.9] \n"
     ]
    },
    {
     "name": "stdout",
     "output_type": "stream",
     "text": [
      "Epoch: 8, Test Loss: 0.4911715877907617, Test Score: 0.805045871559633, Time Cost: 0.03410029411315918\n"
     ]
    },
    {
     "name": "stderr",
     "output_type": "stream",
     "text": [
      "100%|██████████| 1053/1053 [00:05<00:00, 191.17it/s, epoch=9/10, loss=0.402, lr=1.68e-6, metric_score=0.857, time=56.5] \n"
     ]
    },
    {
     "name": "stdout",
     "output_type": "stream",
     "text": [
      "Epoch: 9, Test Loss: 0.491443287049021, Test Score: 0.805045871559633, Time Cost: 0.03386497497558594\n",
      "model checkpoint saving to ./ckpt/sst2_configs_checkpoint...\n"
     ]
    }
   ],
   "execution_count": 45
  },
  {
   "metadata": {
    "ExecuteTime": {
     "end_time": "2024-10-14T08:50:54.809274Z",
     "start_time": "2024-10-14T08:50:54.773788Z"
    }
   },
   "cell_type": "code",
   "source": [
    "print('testing model...')\n",
    "test_result = learner_obj.test(model=model_obj, test_loader=data_loader['test_loader'], device=device,\n",
    "                               metric=metric_obj)"
   ],
   "id": "98bcda38c9c93421",
   "outputs": [
    {
     "name": "stdout",
     "output_type": "stream",
     "text": [
      "testing model...\n"
     ]
    }
   ],
   "execution_count": 46
  },
  {
   "metadata": {
    "ExecuteTime": {
     "end_time": "2024-10-14T08:50:54.812624Z",
     "start_time": "2024-10-14T08:50:54.809959Z"
    }
   },
   "cell_type": "code",
   "source": [
    "print('evaluating result...')\n",
    "print(metric_obj.__class__.__name__, metric_obj.evaluate(y_true=test_result['y_true'], y_pred=test_result['y_pred'], y_score=test_result['y_score'], ))"
   ],
   "id": "9f3f9ac63f65af4c",
   "outputs": [
    {
     "name": "stdout",
     "output_type": "stream",
     "text": [
      "evaluating result...\n",
      "accuracy 0.805045871559633\n"
     ]
    }
   ],
   "execution_count": 47
  },
  {
   "metadata": {
    "ExecuteTime": {
     "end_time": "2024-10-14T08:50:54.818184Z",
     "start_time": "2024-10-14T08:50:54.813568Z"
    }
   },
   "cell_type": "code",
   "source": [
    "print('saving result...')\n",
    "result_obj.save(test_result, cache_dir='./result', output_file='{}_result'.format(config_file_name))\n",
    "result_obj.save(training_records, cache_dir='./result', output_file='{}_record'.format(config_file_name))"
   ],
   "id": "186c8c0e86d98969",
   "outputs": [
    {
     "name": "stdout",
     "output_type": "stream",
     "text": [
      "saving result...\n"
     ]
    }
   ],
   "execution_count": 48
  }
 ],
 "metadata": {
  "kernelspec": {
   "display_name": "Python 3",
   "language": "python",
   "name": "python3"
  },
  "language_info": {
   "codemirror_mode": {
    "name": "ipython",
    "version": 2
   },
   "file_extension": ".py",
   "mimetype": "text/x-python",
   "name": "python",
   "nbconvert_exporter": "python",
   "pygments_lexer": "ipython2",
   "version": "2.7.6"
  }
 },
 "nbformat": 4,
 "nbformat_minor": 5
}
