{
 "cells": [
  {
   "cell_type": "code",
   "id": "7c221a97b79087f1",
   "metadata": {
    "collapsed": true,
    "ExecuteTime": {
     "end_time": "2024-10-14T06:35:32.313920Z",
     "start_time": "2024-10-14T06:35:30.811607Z"
    }
   },
   "source": [
    "from tinybig.config import config\n",
    "from tinybig.util import set_random_seed\n",
    "\n",
    "print('loading configs...')\n",
    "config_file_name = 'banknote_configs'\n",
    "config_obj = config()\n",
    "config = config_obj.load_yaml(cache_dir='./configs', config_file=config_file_name + '.yaml')\n",
    "print(config)"
   ],
   "outputs": [
    {
     "name": "stdout",
     "output_type": "stream",
     "text": [
      "loading configs...\n",
      "{'configurations': {'device': 'mps', 'random_seed': 1234, 'data_configs': {'data_class': 'tinybig.data.banknote', 'data_parameters': {'name': 'banknote', 'train_batch_size': 2000, 'test_batch_size': 1000}}, 'learner_configs': {'learner_class': 'tinybig.learner.backward_learner', 'learner_parameters': {'name': 'error_backward_propagation', 'n_epochs': 1500, 'optimizer_configs': {'optimizer_class': 'torch.optim.AdamW', 'optimizer_parameters': {'lr': 0.03, 'weight_decay': 1e-05}}, 'loss_configs': {'loss_class': 'torch.nn.MSELoss', 'loss_parameters': {'reduction': 'mean'}}}}, 'model_configs': {'model_class': 'tinybig.model.rpn', 'model_parameters': {'device': 'mps', 'name': 'reconciled_polynomial_network', 'depth': 1, 'depth_alloc': [1], 'layer_configs': [{'layer_class': 'tinybig.module.rpn_layer', 'layer_parameters': {'name': 'rpn_layer', 'm': 4, 'n': 1, 'width': 1, 'width_alloc': [1], 'head_configs': [{'head_class': 'tinybig.module.rpn_head', 'head_parameters': {'l': None, 'channel_num': 1, 'data_transformation_configs': {'function_class': 'tinybig.expansion.combinatorial_normal_expansion', 'function_parameters': {'name': 'combinatorial_normal_expansion', 'd': 2}}, 'parameter_fabrication_configs': {'function_class': 'tinybig.reconciliation.identity_reconciliation', 'function_parameters': {'name': 'identity_reconciliation'}}, 'remainder_configs': {'function_class': 'tinybig.remainder.linear_remainder', 'function_parameters': {'name': 'linear_remainder', 'require_parameters': True}}}}]}}]}}, 'metric_configs': {'metric_class': 'tinybig.metric.mse', 'metric_parameters': {'name': 'mse'}}, 'output_configs': {'output_class': 'tinybig.output.rpn_output', 'output_parameters': {'name': 'prediction_output'}}}}\n"
     ]
    }
   ],
   "execution_count": 1
  },
  {
   "metadata": {
    "ExecuteTime": {
     "end_time": "2024-10-14T06:35:32.330948Z",
     "start_time": "2024-10-14T06:35:32.314912Z"
    }
   },
   "cell_type": "code",
   "source": [
    "print('setting up environments...')\n",
    "device = config['configurations'].pop('device')\n",
    "random_seed = config['configurations'].pop('random_seed')\n",
    "set_random_seed(random_seed)\n",
    "print('device: ', device, '; random_seed: ', random_seed)"
   ],
   "id": "initial_id",
   "outputs": [
    {
     "name": "stdout",
     "output_type": "stream",
     "text": [
      "setting up environments...\n",
      "device:  mps ; random_seed:  1234\n"
     ]
    }
   ],
   "execution_count": 2
  },
  {
   "metadata": {
    "ExecuteTime": {
     "end_time": "2024-10-14T06:35:32.380401Z",
     "start_time": "2024-10-14T06:35:32.331536Z"
    }
   },
   "cell_type": "code",
   "source": [
    "print('instantiating objects from config...')\n",
    "data_obj, model_obj, learner_obj, metric_obj, result_obj = [config_obj.instantiation_from_configs(config['configurations'][f'{stem}_configs'], device=device, class_name=f'{stem}_class', parameter_name=f'{stem}_parameters') for stem in ['data', 'model', 'learner', 'metric', 'output']]\n",
    "\n",
    "print('parameter num: ', sum([parameter.numel() for parameter in model_obj.parameters()]))\n"
   ],
   "id": "8b522a245bba00cb",
   "outputs": [
    {
     "name": "stdout",
     "output_type": "stream",
     "text": [
      "instantiating objects from config...\n",
      "combinatorial_normal_expansion initialization\n",
      "parameter num:  14\n"
     ]
    }
   ],
   "execution_count": 3
  },
  {
   "metadata": {
    "ExecuteTime": {
     "end_time": "2024-10-14T06:35:32.386901Z",
     "start_time": "2024-10-14T06:35:32.381142Z"
    }
   },
   "cell_type": "code",
   "source": [
    "print('loading dataset...')\n",
    "data_loader = data_obj.load(train_percentage=0.9, normalize_X=True)"
   ],
   "id": "914f0e5c4e1b0ab0",
   "outputs": [
    {
     "name": "stdout",
     "output_type": "stream",
     "text": [
      "loading dataset...\n"
     ]
    }
   ],
   "execution_count": 4
  },
  {
   "metadata": {
    "ExecuteTime": {
     "end_time": "2024-10-14T06:36:36.813934Z",
     "start_time": "2024-10-14T06:35:32.388809Z"
    }
   },
   "cell_type": "code",
   "source": [
    "print('training model...')\n",
    "training_records = learner_obj.train(model=model_obj, data_loader=data_loader, device=device, metric=metric_obj, disable_tqdm=True, display_step=100)\n",
    "model_obj.save_ckpt(cache_dir='./ckpt', checkpoint_file=f'{config_file_name}_checkpoint')"
   ],
   "id": "4c528b7582b2a803",
   "outputs": [
    {
     "name": "stdout",
     "output_type": "stream",
     "text": [
      "training model...\n",
      "Epoch: 0, Test Loss: 0.5523764491081238, Test Score: 0.5523764585652611, Time Cost: 0.019858121871948242\n",
      "Epoch: 100, Test Loss: 0.12307252734899521, Test Score: 0.12307253284586765, Time Cost: 0.005795955657958984\n",
      "Epoch: 200, Test Loss: 0.07605640590190887, Test Score: 0.07605640657863869, Time Cost: 0.005700826644897461\n",
      "Epoch: 300, Test Loss: 0.05115049332380295, Test Score: 0.05115049151816701, Time Cost: 0.00667119026184082\n",
      "Epoch: 400, Test Loss: 0.03771374374628067, Test Score: 0.037713738943140604, Time Cost: 0.0072209835052490234\n",
      "Epoch: 500, Test Loss: 0.03128756955265999, Test Score: 0.031287569492828786, Time Cost: 0.006415843963623047\n",
      "Epoch: 600, Test Loss: 0.028630321845412254, Test Score: 0.028630320442375803, Time Cost: 0.005992889404296875\n",
      "Epoch: 700, Test Loss: 0.02767041139304638, Test Score: 0.027670411839350012, Time Cost: 0.005700826644897461\n",
      "Epoch: 800, Test Loss: 0.027354076504707336, Test Score: 0.027354075929483655, Time Cost: 0.0067462921142578125\n",
      "Epoch: 900, Test Loss: 0.027246931567788124, Test Score: 0.027246932776709653, Time Cost: 0.0060939788818359375\n",
      "Epoch: 1000, Test Loss: 0.027200186625123024, Test Score: 0.02720018552701321, Time Cost: 0.006062030792236328\n",
      "Epoch: 1100, Test Loss: 0.02717040851712227, Test Score: 0.027170408210935193, Time Cost: 0.0060770511627197266\n",
      "Epoch: 1200, Test Loss: 0.02714657410979271, Test Score: 0.027146573422507994, Time Cost: 0.006129741668701172\n",
      "Epoch: 1300, Test Loss: 0.02712603472173214, Test Score: 0.02712603397597161, Time Cost: 0.006973981857299805\n",
      "Epoch: 1400, Test Loss: 0.027108129113912582, Test Score: 0.027108128072216978, Time Cost: 0.0071070194244384766\n",
      "model checkpoint saving to ./ckpt/banknote_configs_checkpoint...\n"
     ]
    }
   ],
   "execution_count": 5
  },
  {
   "metadata": {
    "ExecuteTime": {
     "end_time": "2024-10-14T06:36:36.824054Z",
     "start_time": "2024-10-14T06:36:36.814929Z"
    }
   },
   "cell_type": "code",
   "source": [
    "print('testing model...')\n",
    "test_result = learner_obj.test(model=model_obj, test_loader=data_loader['test_loader'], device=device,\n",
    "                               metric=metric_obj)"
   ],
   "id": "98bcda38c9c93421",
   "outputs": [
    {
     "name": "stdout",
     "output_type": "stream",
     "text": [
      "testing model...\n"
     ]
    }
   ],
   "execution_count": 6
  },
  {
   "metadata": {
    "ExecuteTime": {
     "end_time": "2024-10-14T06:36:36.826837Z",
     "start_time": "2024-10-14T06:36:36.824739Z"
    }
   },
   "cell_type": "code",
   "source": [
    "print('evaluating result...')\n",
    "print(metric_obj.__class__.__name__, metric_obj.evaluate(y_true=test_result['y_true'], y_pred=test_result['y_pred'], y_score=test_result['y_score'], ))"
   ],
   "id": "9f3f9ac63f65af4c",
   "outputs": [
    {
     "name": "stdout",
     "output_type": "stream",
     "text": [
      "evaluating result...\n",
      "mse 0.027092706592679202\n"
     ]
    }
   ],
   "execution_count": 7
  },
  {
   "metadata": {
    "ExecuteTime": {
     "end_time": "2024-10-14T06:36:36.830683Z",
     "start_time": "2024-10-14T06:36:36.827559Z"
    }
   },
   "cell_type": "code",
   "source": [
    "from tinybig.metric import accuracy\n",
    "\n",
    "y_rounded_label = [[round(y[0])] for y in test_result['y_score']]\n",
    "test_result['y_pred'] = y_rounded_label\n",
    "\n",
    "acc_metric = accuracy('accuracy_metric')\n",
    "print('evaluating rounded prediction labels...')\n",
    "print(acc_metric.__class__.__name__, acc_metric.evaluate(y_true=test_result['y_true'], y_pred=test_result['y_pred'], y_score=test_result['y_score'], ))"
   ],
   "id": "10081e57eddbbf41",
   "outputs": [
    {
     "name": "stdout",
     "output_type": "stream",
     "text": [
      "evaluating rounded prediction labels...\n",
      "accuracy 0.9710144927536232\n"
     ]
    }
   ],
   "execution_count": 8
  },
  {
   "metadata": {
    "ExecuteTime": {
     "end_time": "2024-10-14T06:36:36.837710Z",
     "start_time": "2024-10-14T06:36:36.831665Z"
    }
   },
   "cell_type": "code",
   "source": [
    "print('saving result...')\n",
    "result_obj.save(test_result, cache_dir='./result', output_file='{}_result'.format(config_file_name))\n",
    "result_obj.save(training_records, cache_dir='./result', output_file='{}_record'.format(config_file_name))"
   ],
   "id": "186c8c0e86d98969",
   "outputs": [
    {
     "name": "stdout",
     "output_type": "stream",
     "text": [
      "saving result...\n"
     ]
    }
   ],
   "execution_count": 9
  }
 ],
 "metadata": {
  "kernelspec": {
   "display_name": "Python 3",
   "language": "python",
   "name": "python3"
  },
  "language_info": {
   "codemirror_mode": {
    "name": "ipython",
    "version": 2
   },
   "file_extension": ".py",
   "mimetype": "text/x-python",
   "name": "python",
   "nbconvert_exporter": "python",
   "pygments_lexer": "ipython2",
   "version": "2.7.6"
  }
 },
 "nbformat": 4,
 "nbformat_minor": 5
}
