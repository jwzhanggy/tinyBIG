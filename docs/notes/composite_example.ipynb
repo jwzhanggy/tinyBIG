{
 "cells": [
  {
   "cell_type": "code",
   "id": "7c221a97b79087f1",
   "metadata": {
    "collapsed": true,
    "ExecuteTime": {
     "end_time": "2024-10-14T06:38:25.000059Z",
     "start_time": "2024-10-14T06:38:23.556552Z"
    }
   },
   "source": [
    "from tinybig.config import config\n",
    "from tinybig.util import set_random_seed\n",
    "\n",
    "print('loading configs...')\n",
    "config_file_name = 'composite_configs'\n",
    "config_obj = config()\n",
    "config = config_obj.load_yaml(cache_dir='./configs', config_file=config_file_name + '.yaml')\n",
    "print(config)"
   ],
   "outputs": [
    {
     "name": "stdout",
     "output_type": "stream",
     "text": [
      "loading configs...\n",
      "{'configurations': {'device': 'cpu', 'random_seed': 4567, 'data_configs': {'data_class': 'tinybig.data.composite_function', 'data_parameters': {'name': 'elementary_function', 'train_batch_size': 100, 'test_batch_size': 100, 'equation_index': 3}}, 'learner_configs': {'learner_class': 'tinybig.learner.backward_learner', 'learner_parameters': {'name': 'error_backward_propagation', 'n_epochs': 2000, 'optimizer_configs': {'optimizer_class': 'torch.optim.AdamW', 'optimizer_parameters': {'lr': 0.003, 'weight_decay': 0.0001}}, 'lr_scheduler_configs': {'lr_scheduler_class': 'torch.optim.lr_scheduler.ExponentialLR', 'lr_scheduler_parameters': {'gamma': 0.999}}, 'loss_configs': {'loss_class': 'torch.nn.MSELoss', 'loss_parameters': {'reduction': 'mean'}}}}, 'model_configs': {'model_class': 'tinybig.model.rpn', 'model_parameters': {'device': 'cpu', 'name': 'reconciled_polynomial_network', 'depth': 3, 'depth_alloc': [2, 1], 'layer_configs': [{'layer_class': 'tinybig.module.rpn_layer', 'layer_parameters': {'name': 'rpn_layer', 'm': 2, 'n': 2, 'width': 1, 'width_alloc': [1], 'head_configs': [{'head_class': 'tinybig.module.rpn_head', 'head_parameters': {'l': None, 'channel_num': 1, 'data_transformation_configs': {'function_class': 'tinybig.expansion.nested_expansion', 'function_parameters': {'name': 'extended_expansion', 'composition_function_configs': [{'function_class': 'tinybig.expansion.bspline_expansion', 'function_parameters': {'name': 'bspline_expansion', 't': 10, 'd': 4}}, {'function_class': 'tinybig.expansion.taylor_expansion', 'function_parameters': {'name': 'taylor_expansion', 'd': 2}}]}}, 'parameter_fabrication_configs': {'function_class': 'tinybig.reconciliation.lorr_reconciliation', 'function_parameters': {'name': 'lorr_reconciliation', 'r': 1}}, 'remainder_configs': {'function_class': 'tinybig.remainder.zero_remainder', 'function_parameters': {'name': 'zero_remainder'}}}}]}}, {'layer_class': 'tinybig.module.rpn_layer', 'layer_parameters': {'name': 'rpn_layer', 'm': 2, 'n': 1, 'width': 1, 'width_alloc': [1], 'head_configs': [{'head_class': 'tinybig.module.rpn_head', 'head_parameters': {'l': None, 'channel_num': 1, 'data_transformation_configs': {'function_class': 'tinybig.expansion.nested_expansion', 'function_parameters': {'name': 'extended_expansion', 'composition_function_configs': [{'function_class': 'tinybig.expansion.bspline_expansion', 'function_parameters': {'name': 'bspline_expansion', 't': 10, 'd': 4}}, {'function_class': 'tinybig.expansion.taylor_expansion', 'function_parameters': {'name': 'taylor_expansion', 'd': 2}}]}}, 'parameter_fabrication_configs': {'function_class': 'tinybig.reconciliation.lorr_reconciliation', 'function_parameters': {'name': 'lorr_reconciliation', 'r': 1}}, 'remainder_configs': {'function_class': 'tinybig.remainder.zero_remainder', 'function_parameters': {'name': 'zero_remainder'}}}}]}}]}}, 'metric_configs': {'metric_class': 'tinybig.metric.mse', 'metric_parameters': {'name': 'mse'}}, 'output_configs': {'output_class': 'tinybig.output.rpn_output', 'output_parameters': {'name': 'rpn_output'}}}}\n"
     ]
    }
   ],
   "execution_count": 1
  },
  {
   "metadata": {
    "ExecuteTime": {
     "end_time": "2024-10-14T06:38:25.015846Z",
     "start_time": "2024-10-14T06:38:25.001009Z"
    }
   },
   "cell_type": "code",
   "source": [
    "print('setting up environments...')\n",
    "device = config['configurations'].pop('device')\n",
    "random_seed = config['configurations'].pop('random_seed')\n",
    "set_random_seed(random_seed)\n",
    "print('device: ', device, '; random_seed: ', random_seed)"
   ],
   "id": "initial_id",
   "outputs": [
    {
     "name": "stdout",
     "output_type": "stream",
     "text": [
      "setting up environments...\n",
      "device:  cpu ; random_seed:  4567\n"
     ]
    }
   ],
   "execution_count": 2
  },
  {
   "metadata": {
    "ExecuteTime": {
     "end_time": "2024-10-14T06:38:25.019845Z",
     "start_time": "2024-10-14T06:38:25.016432Z"
    }
   },
   "cell_type": "code",
   "source": [
    "print('instantiating objects from config...')\n",
    "data_obj, model_obj, learner_obj, metric_obj, result_obj = [config_obj.instantiation_from_configs(config['configurations'][f'{stem}_configs'], device=device, class_name=f'{stem}_class', parameter_name=f'{stem}_parameters') for stem in ['data', 'model', 'learner', 'metric', 'output']]\n",
    "\n",
    "print('parameter num: ', sum([parameter.numel() for parameter in model_obj.parameters()]))\n"
   ],
   "id": "8b522a245bba00cb",
   "outputs": [
    {
     "name": "stdout",
     "output_type": "stream",
     "text": [
      "instantiating objects from config...\n",
      "parameter num:  2441\n"
     ]
    }
   ],
   "execution_count": 3
  },
  {
   "metadata": {
    "ExecuteTime": {
     "end_time": "2024-10-14T06:38:25.060837Z",
     "start_time": "2024-10-14T06:38:25.020470Z"
    }
   },
   "cell_type": "code",
   "source": [
    "print('loading dataset...')\n",
    "data_loader = data_obj.load()\n",
    "print(data_loader['str_equation'])"
   ],
   "id": "914f0e5c4e1b0ab0",
   "outputs": [
    {
     "name": "stdout",
     "output_type": "stream",
     "text": [
      "loading dataset...\n",
      "C.3,3,f,exp(x+y)+ln(x+y),2,x,0,1,y,0,1\n"
     ]
    }
   ],
   "execution_count": 4
  },
  {
   "metadata": {
    "ExecuteTime": {
     "end_time": "2024-10-14T06:39:29.870143Z",
     "start_time": "2024-10-14T06:38:25.062191Z"
    }
   },
   "cell_type": "code",
   "source": [
    "print('training model...')\n",
    "training_records = learner_obj.train(model=model_obj, data_loader=data_loader, device=device,\n",
    "                                     metric=metric_obj, disable_tqdm=True, display_step=100)\n",
    "model_obj.save_ckpt(cache_dir='./ckpt', checkpoint_file=f'{config_file_name}_checkpoint')"
   ],
   "id": "4c528b7582b2a803",
   "outputs": [
    {
     "name": "stdout",
     "output_type": "stream",
     "text": [
      "training model...\n",
      "Epoch: 0, Test Loss: 10.326179218292236, Test Score: 10.326179241023178, Time Cost: 0.009999990463256836\n",
      "Epoch: 100, Test Loss: 7.914843590697273e-05, Test Score: 7.914843388686176e-05, Time Cost: 0.010702133178710938\n",
      "Epoch: 200, Test Loss: 3.235460844734917e-05, Test Score: 3.2354608626100455e-05, Time Cost: 0.010865926742553711\n",
      "Epoch: 300, Test Loss: 2.7068096096627413e-05, Test Score: 2.7068096045027135e-05, Time Cost: 0.011493921279907227\n",
      "Epoch: 400, Test Loss: 1.9416726900089998e-05, Test Score: 1.9416726816243402e-05, Time Cost: 0.009797811508178711\n",
      "Epoch: 500, Test Loss: 2.3604950797562197e-06, Test Score: 2.3604950758742694e-06, Time Cost: 0.010296821594238281\n",
      "Epoch: 600, Test Loss: 3.379404006409459e-06, Test Score: 3.3794040429685477e-06, Time Cost: 0.01204991340637207\n",
      "Epoch: 700, Test Loss: 2.7966346124230767e-06, Test Score: 2.7966346385678853e-06, Time Cost: 0.01173090934753418\n",
      "Epoch: 800, Test Loss: 5.21520150869037e-06, Test Score: 5.2152016748364675e-06, Time Cost: 0.011132240295410156\n",
      "Epoch: 900, Test Loss: 2.0304026179474023e-06, Test Score: 2.0304025789230075e-06, Time Cost: 0.009688138961791992\n",
      "Epoch: 1000, Test Loss: 1.9652888454402273e-06, Test Score: 1.9652888521438095e-06, Time Cost: 0.009530782699584961\n",
      "Epoch: 1100, Test Loss: 3.3900660582730778e-06, Test Score: 3.390066087023302e-06, Time Cost: 0.009694814682006836\n",
      "Epoch: 1200, Test Loss: 2.725377498791204e-06, Test Score: 2.7253776220267367e-06, Time Cost: 0.010430097579956055\n",
      "Epoch: 1300, Test Loss: 1.3240468706499087e-05, Test Score: 1.3240468574765852e-05, Time Cost: 0.011250972747802734\n",
      "Epoch: 1400, Test Loss: 3.827782961707271e-06, Test Score: 3.827783106243765e-06, Time Cost: 0.009557008743286133\n",
      "Epoch: 1500, Test Loss: 2.7451215601104197e-06, Test Score: 2.7451215634807236e-06, Time Cost: 0.01112675666809082\n",
      "Epoch: 1600, Test Loss: 8.4973675029687e-07, Test Score: 8.497367675616152e-07, Time Cost: 0.009984970092773438\n",
      "Epoch: 1700, Test Loss: 5.063614889877499e-06, Test Score: 5.063614940140293e-06, Time Cost: 0.009487152099609375\n",
      "Epoch: 1800, Test Loss: 3.895540680787235e-06, Test Score: 3.895540729892677e-06, Time Cost: 0.009623050689697266\n",
      "Epoch: 1900, Test Loss: 2.0417723590071548e-06, Test Score: 2.0417723151132107e-06, Time Cost: 0.009117841720581055\n",
      "model checkpoint saving to ./ckpt/composite_configs_checkpoint...\n"
     ]
    }
   ],
   "execution_count": 5
  },
  {
   "metadata": {
    "ExecuteTime": {
     "end_time": "2024-10-14T06:39:29.885314Z",
     "start_time": "2024-10-14T06:39:29.871188Z"
    }
   },
   "cell_type": "code",
   "source": [
    "print('testing model...')\n",
    "test_result = learner_obj.test(model=model_obj, test_loader=data_loader['test_loader'], device=device,\n",
    "                               metric=metric_obj)"
   ],
   "id": "98bcda38c9c93421",
   "outputs": [
    {
     "name": "stdout",
     "output_type": "stream",
     "text": [
      "testing model...\n"
     ]
    }
   ],
   "execution_count": 6
  },
  {
   "metadata": {
    "ExecuteTime": {
     "end_time": "2024-10-14T06:39:29.888676Z",
     "start_time": "2024-10-14T06:39:29.886255Z"
    }
   },
   "cell_type": "code",
   "source": [
    "print('evaluating result...')\n",
    "print(metric_obj.__class__.__name__, metric_obj.evaluate(y_true=test_result['y_true'], y_pred=test_result['y_pred'], y_score=test_result['y_score'], ))"
   ],
   "id": "9f3f9ac63f65af4c",
   "outputs": [
    {
     "name": "stdout",
     "output_type": "stream",
     "text": [
      "evaluating result...\n",
      "mse 3.823421743615607e-07\n"
     ]
    }
   ],
   "execution_count": 7
  },
  {
   "metadata": {
    "ExecuteTime": {
     "end_time": "2024-10-14T06:39:29.916221Z",
     "start_time": "2024-10-14T06:39:29.889502Z"
    }
   },
   "cell_type": "code",
   "source": [
    "print('saving result...')\n",
    "result_obj.save(test_result, cache_dir='./result', output_file='{}_result'.format(config_file_name))\n",
    "result_obj.save(training_records, cache_dir='./result', output_file='{}_record'.format(config_file_name))"
   ],
   "id": "186c8c0e86d98969",
   "outputs": [
    {
     "name": "stdout",
     "output_type": "stream",
     "text": [
      "saving result...\n"
     ]
    }
   ],
   "execution_count": 8
  }
 ],
 "metadata": {
  "kernelspec": {
   "display_name": "Python 3",
   "language": "python",
   "name": "python3"
  },
  "language_info": {
   "codemirror_mode": {
    "name": "ipython",
    "version": 2
   },
   "file_extension": ".py",
   "mimetype": "text/x-python",
   "name": "python",
   "nbconvert_exporter": "python",
   "pygments_lexer": "ipython2",
   "version": "2.7.6"
  }
 },
 "nbformat": 4,
 "nbformat_minor": 5
}
