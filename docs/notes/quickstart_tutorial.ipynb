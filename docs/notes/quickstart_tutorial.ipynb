{
 "cells": [
  {
   "metadata": {
    "ExecuteTime": {
     "end_time": "2024-07-08T00:55:47.014477Z",
     "start_time": "2024-07-08T00:55:45.173201Z"
    }
   },
   "cell_type": "code",
   "source": [
    "from tinybig.util import set_random_seed\n",
    "set_random_seed(random_seed=1234)\n",
    "DEVICE = 'mps' # or 'cpu', or 'cuda'"
   ],
   "id": "df38cd46ffc311a9",
   "outputs": [],
   "execution_count": 1
  },
  {
   "metadata": {
    "ExecuteTime": {
     "end_time": "2024-07-08T00:55:47.034064Z",
     "start_time": "2024-07-08T00:55:47.015559Z"
    }
   },
   "cell_type": "code",
   "source": [
    "from tinybig.data import mnist\n",
    "mnist_data = mnist(name='mnist', train_batch_size=64, test_batch_size=64)\n",
    "mnist_loaders = mnist_data.load(cache_dir='./data/')\n",
    "train_loader = mnist_loaders['train_loader']\n",
    "test_loader = mnist_loaders['test_loader']"
   ],
   "id": "8b8b0a9a68fa351f",
   "outputs": [],
   "execution_count": 2
  },
  {
   "metadata": {
    "ExecuteTime": {
     "end_time": "2024-07-08T00:55:47.044307Z",
     "start_time": "2024-07-08T00:55:47.034782Z"
    }
   },
   "cell_type": "code",
   "source": [
    "for X, y in train_loader:\n",
    "    print('X shape:', X.shape, 'y.shape:', y.shape)\n",
    "    print('X', X)\n",
    "    print('y', y)\n",
    "    break"
   ],
   "id": "9c83dc51c769f690",
   "outputs": [
    {
     "name": "stdout",
     "output_type": "stream",
     "text": [
      "X shape: torch.Size([64, 784]) y.shape: torch.Size([64])\n",
      "X tensor([[-0.4242, -0.4242, -0.4242,  ..., -0.4242, -0.4242, -0.4242],\n",
      "        [-0.4242, -0.4242, -0.4242,  ..., -0.4242, -0.4242, -0.4242],\n",
      "        [-0.4242, -0.4242, -0.4242,  ..., -0.4242, -0.4242, -0.4242],\n",
      "        ...,\n",
      "        [-0.4242, -0.4242, -0.4242,  ..., -0.4242, -0.4242, -0.4242],\n",
      "        [-0.4242, -0.4242, -0.4242,  ..., -0.4242, -0.4242, -0.4242],\n",
      "        [-0.4242, -0.4242, -0.4242,  ..., -0.4242, -0.4242, -0.4242]])\n",
      "y tensor([6, 6, 3, 8, 3, 2, 8, 7, 0, 9, 1, 7, 6, 6, 8, 6, 8, 2, 2, 3, 0, 6, 7, 1,\n",
      "        2, 1, 9, 2, 0, 9, 0, 2, 9, 8, 9, 3, 0, 7, 8, 1, 3, 0, 3, 6, 0, 5, 2, 1,\n",
      "        5, 3, 1, 7, 6, 2, 8, 7, 6, 7, 0, 3, 6, 3, 3, 6])\n"
     ]
    }
   ],
   "execution_count": 3
  },
  {
   "metadata": {},
   "cell_type": "markdown",
   "source": "",
   "id": "5db255ccd81e2e71"
  },
  {
   "metadata": {
    "ExecuteTime": {
     "end_time": "2024-07-08T00:55:47.050277Z",
     "start_time": "2024-07-08T00:55:47.045243Z"
    }
   },
   "cell_type": "code",
   "source": [
    "from tinybig.expansion import taylor_expansion\n",
    "\n",
    "exp_func = taylor_expansion(name='taylor_expansion', d=2, postprocess_functions='layer_norm', device=DEVICE)\n",
    "x = X[0:1,:]\n",
    "D = exp_func.calculate_D(m=x.size(1))\n",
    "print('Expansion space dimension:', D)\n",
    "\n",
    "kappa_x = exp_func(x=x)\n",
    "print('x.shape', x.shape, 'kappa_x.shape', kappa_x.shape)"
   ],
   "id": "ae8780ef8bda818f",
   "outputs": [
    {
     "name": "stdout",
     "output_type": "stream",
     "text": [
      "Expansion space dimension: 615440\n",
      "x.shape torch.Size([1, 784]) kappa_x.shape torch.Size([1, 615440])\n"
     ]
    }
   ],
   "execution_count": 4
  },
  {
   "metadata": {
    "ExecuteTime": {
     "end_time": "2024-07-08T00:55:47.054711Z",
     "start_time": "2024-07-08T00:55:47.052455Z"
    }
   },
   "cell_type": "code",
   "source": [
    "from tinybig.reconciliation import dual_lphm_reconciliation\n",
    "\n",
    "rec_func = dual_lphm_reconciliation(name='dual_lphm_reconciliation', p=8, q=784, r=5, device=DEVICE)\n",
    "l = rec_func.calculate_l(n=64, D=D)\n",
    "print('Required learnable parameter number:', l)"
   ],
   "id": "e643a430378b51d0",
   "outputs": [
    {
     "name": "stdout",
     "output_type": "stream",
     "text": [
      "Required learnable parameter number: 7925\n"
     ]
    }
   ],
   "execution_count": 5
  },
  {
   "metadata": {
    "ExecuteTime": {
     "end_time": "2024-07-08T00:55:47.057723Z",
     "start_time": "2024-07-08T00:55:47.055615Z"
    }
   },
   "cell_type": "code",
   "source": [
    "from tinybig.remainder import zero_remainder\n",
    "\n",
    "rem_func = zero_remainder(name='zero_remainder', require_parameters=False, enable_bias=False, device=DEVICE)"
   ],
   "id": "ec1686a920e55a92",
   "outputs": [],
   "execution_count": 6
  },
  {
   "metadata": {
    "ExecuteTime": {
     "end_time": "2024-07-08T00:55:47.060527Z",
     "start_time": "2024-07-08T00:55:47.058433Z"
    }
   },
   "cell_type": "code",
   "source": [
    "from tinybig.module import rpn_head\n",
    "\n",
    "head = rpn_head(m=784, n=64, channel_num=1, data_transformation=exp_func, parameter_fabrication=rec_func, remainder=rem_func, device=DEVICE)"
   ],
   "id": "1d1b7ea8dadad1fd",
   "outputs": [],
   "execution_count": 7
  },
  {
   "metadata": {
    "ExecuteTime": {
     "end_time": "2024-07-08T00:55:47.062904Z",
     "start_time": "2024-07-08T00:55:47.061264Z"
    }
   },
   "cell_type": "code",
   "source": [
    "from tinybig.module import rpn_layer\n",
    "\n",
    "layer_1 = rpn_layer(m=784, n=64, heads=[head], device=DEVICE)"
   ],
   "id": "f31c5a5267000075",
   "outputs": [],
   "execution_count": 8
  },
  {
   "metadata": {
    "ExecuteTime": {
     "end_time": "2024-07-08T00:55:47.066303Z",
     "start_time": "2024-07-08T00:55:47.063482Z"
    }
   },
   "cell_type": "code",
   "source": [
    "layer_2 = rpn_layer(\n",
    "    m=64, n=64, heads=[\n",
    "        rpn_head(\n",
    "            m=64, n=64, channel_num=1,\n",
    "            data_transformation=taylor_expansion(d=2, postprocess_functions='layer_norm', device=DEVICE),\n",
    "            parameter_fabrication=dual_lphm_reconciliation(p=8, q=64, r=5, device=DEVICE),\n",
    "            remainder=zero_remainder(device=DEVICE),\n",
    "            device=DEVICE\n",
    "        )\n",
    "    ],\n",
    "    device=DEVICE\n",
    ")\n",
    "\n",
    "layer_3 = rpn_layer(\n",
    "    m=64, n=10, heads=[\n",
    "        rpn_head(\n",
    "            m=64, n=10, channel_num=1,\n",
    "            data_transformation=taylor_expansion(d=2, postprocess_functions='layer_norm', device=DEVICE),\n",
    "            parameter_fabrication=dual_lphm_reconciliation(p=2, q=64, r=5, device=DEVICE),\n",
    "            remainder=zero_remainder(device=DEVICE),\n",
    "            device=DEVICE\n",
    "        )\n",
    "    ],\n",
    "    device=DEVICE\n",
    ")"
   ],
   "id": "fcf5704a9c16c2c6",
   "outputs": [],
   "execution_count": 9
  },
  {
   "metadata": {
    "ExecuteTime": {
     "end_time": "2024-07-08T00:55:47.069178Z",
     "start_time": "2024-07-08T00:55:47.066958Z"
    }
   },
   "cell_type": "code",
   "source": [
    "from tinybig.model import rpn\n",
    "\n",
    "model = rpn(\n",
    "    layers = [\n",
    "        layer_1,\n",
    "        layer_2,\n",
    "        layer_3\n",
    "    ],\n",
    "    device=DEVICE\n",
    ")"
   ],
   "id": "8b4105f3406808d4",
   "outputs": [],
   "execution_count": 10
  },
  {
   "metadata": {
    "ExecuteTime": {
     "end_time": "2024-07-08T00:55:47.072377Z",
     "start_time": "2024-07-08T00:55:47.069843Z"
    }
   },
   "cell_type": "code",
   "source": [
    "import torch\n",
    "from tinybig.learner import backward_learner\n",
    "\n",
    "optimizer=torch.optim.AdamW(lr=2.0e-03, weight_decay=2.0e-04, params=model.parameters())\n",
    "lr_scheduler=torch.optim.lr_scheduler.ExponentialLR(gamma=0.95, optimizer=optimizer)\n",
    "loss = torch.nn.CrossEntropyLoss()\n",
    "learner = backward_learner(n_epochs=3, optimizer=optimizer, loss=loss, lr_scheduler=lr_scheduler)\n"
   ],
   "id": "48221bb9f2353dc5",
   "outputs": [],
   "execution_count": 11
  },
  {
   "metadata": {
    "ExecuteTime": {
     "end_time": "2024-07-08T00:57:35.308505Z",
     "start_time": "2024-07-08T00:55:47.073389Z"
    }
   },
   "cell_type": "code",
   "source": [
    "from tinybig.metric import accuracy\n",
    "\n",
    "print('parameter num: ', sum([parameter.numel() for parameter in model.parameters()]))\n",
    "\n",
    "metric = accuracy()\n",
    "training_records = learner.train(model=model, data_loader=mnist_loaders, metric=metric, device=DEVICE)"
   ],
   "id": "fa0dacaaf967442d",
   "outputs": [
    {
     "name": "stdout",
     "output_type": "stream",
     "text": [
      "parameter num:  9330\n"
     ]
    },
    {
     "name": "stderr",
     "output_type": "stream",
     "text": [
      "100%|██████████| 938/938 [00:33<00:00, 28.02it/s, epoch=0/3, loss=0.0519, lr=0.002, metric_score=0.969, time=33.6]\n"
     ]
    },
    {
     "name": "stdout",
     "output_type": "stream",
     "text": [
      "Epoch: 0, Test Loss: 0.12760563759773874, Test Score: 0.9621, Time Cost: 3.6527512073516846\n"
     ]
    },
    {
     "name": "stderr",
     "output_type": "stream",
     "text": [
      "100%|██████████| 938/938 [00:31<00:00, 29.45it/s, epoch=1/3, loss=0.0112, lr=0.0019, metric_score=1, time=69.1]    \n"
     ]
    },
    {
     "name": "stdout",
     "output_type": "stream",
     "text": [
      "Epoch: 1, Test Loss: 0.09334634791371549, Test Score: 0.9717, Time Cost: 3.5445549488067627\n"
     ]
    },
    {
     "name": "stderr",
     "output_type": "stream",
     "text": [
      "100%|██████████| 938/938 [00:32<00:00, 29.20it/s, epoch=2/3, loss=0.0212, lr=0.0018, metric_score=1, time=105]     \n"
     ]
    },
    {
     "name": "stdout",
     "output_type": "stream",
     "text": [
      "Epoch: 2, Test Loss: 0.08378902525169431, Test Score: 0.9749, Time Cost: 3.4113848209381104\n"
     ]
    }
   ],
   "execution_count": 12
  },
  {
   "metadata": {
    "ExecuteTime": {
     "end_time": "2024-07-08T00:57:38.822483Z",
     "start_time": "2024-07-08T00:57:35.309565Z"
    }
   },
   "cell_type": "code",
   "source": [
    "test_result = learner.test(model=model, test_loader=mnist_loaders['test_loader'], metric=metric, device=DEVICE)\n",
    "print(metric.__class__.__name__, metric.evaluate(y_true=test_result['y_true'], y_pred=test_result['y_pred'], y_score=test_result['y_score'], ))"
   ],
   "id": "4d71db9cd0e48468",
   "outputs": [
    {
     "name": "stdout",
     "output_type": "stream",
     "text": [
      "accuracy 0.9749\n"
     ]
    }
   ],
   "execution_count": 13
  }
 ],
 "metadata": {
  "kernelspec": {
   "display_name": "Python 3",
   "language": "python",
   "name": "python3"
  },
  "language_info": {
   "codemirror_mode": {
    "name": "ipython",
    "version": 2
   },
   "file_extension": ".py",
   "mimetype": "text/x-python",
   "name": "python",
   "nbconvert_exporter": "python",
   "pygments_lexer": "ipython2",
   "version": "2.7.6"
  }
 },
 "nbformat": 4,
 "nbformat_minor": 5
}
