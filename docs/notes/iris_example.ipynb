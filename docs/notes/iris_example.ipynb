{
 "cells": [
  {
   "cell_type": "code",
   "id": "7c221a97b79087f1",
   "metadata": {
    "collapsed": true,
    "ExecuteTime": {
     "end_time": "2024-10-14T06:58:56.241253Z",
     "start_time": "2024-10-14T06:58:54.807345Z"
    }
   },
   "source": [
    "from tinybig.config import config\n",
    "from tinybig.util import set_random_seed\n",
    "\n",
    "print('loading configs...')\n",
    "config_file_name = 'iris_configs'\n",
    "config_obj = config()\n",
    "config = config_obj.load_yaml(cache_dir='./configs', config_file=config_file_name + '.yaml')\n",
    "print(config)"
   ],
   "outputs": [
    {
     "name": "stdout",
     "output_type": "stream",
     "text": [
      "loading configs...\n",
      "{'configurations': {'device': 'mps', 'random_seed': 1234, 'data_configs': {'data_class': 'tinybig.data.iris', 'data_parameters': {'name': 'iris', 'train_batch_size': 1000, 'test_batch_size': 1000}}, 'learner_configs': {'learner_class': 'tinybig.learner.backward_learner', 'learner_parameters': {'name': 'error_backward_propagation', 'n_epochs': 1000, 'optimizer_configs': {'optimizer_class': 'torch.optim.AdamW', 'optimizer_parameters': {'lr': 0.03, 'weight_decay': 1e-05}}, 'loss_configs': {'loss_class': 'torch.nn.MSELoss', 'loss_parameters': {'reduction': 'mean'}}}}, 'model_configs': {'model_class': 'tinybig.model.rpn', 'model_parameters': {'device': 'mps', 'name': 'reconciled_polynomial_network', 'depth': 1, 'depth_alloc': [1], 'layer_configs': [{'layer_class': 'tinybig.module.rpn_layer', 'layer_parameters': {'name': 'rpn_layer', 'm': 4, 'n': 1, 'width': 1, 'width_alloc': [1], 'head_configs': [{'head_class': 'tinybig.module.rpn_head', 'head_parameters': {'l': None, 'channel_num': 1, 'data_transformation_configs': {'function_class': 'tinybig.expansion.naive_laplace_expansion', 'function_parameters': {'name': 'naive_laplace_expansion'}}, 'parameter_fabrication_configs': {'function_class': 'tinybig.reconciliation.identity_reconciliation', 'function_parameters': {'name': 'identity_reconciliation'}}, 'remainder_configs': {'function_class': 'tinybig.remainder.linear_remainder', 'function_parameters': {'name': 'linear_remainder', 'require_parameters': True}}}}]}}]}}, 'metric_configs': {'metric_class': 'tinybig.metric.mse', 'metric_parameters': {'name': 'mse'}}, 'output_configs': {'output_class': 'tinybig.output.rpn_output', 'output_parameters': {'name': 'prediction_output'}}}}\n"
     ]
    }
   ],
   "execution_count": 1
  },
  {
   "metadata": {
    "ExecuteTime": {
     "end_time": "2024-10-14T06:58:56.257300Z",
     "start_time": "2024-10-14T06:58:56.242208Z"
    }
   },
   "cell_type": "code",
   "source": [
    "print('setting up environments...')\n",
    "device = config['configurations'].pop('device')\n",
    "random_seed = config['configurations'].pop('random_seed')\n",
    "set_random_seed(random_seed)\n",
    "print('device: ', device, '; random_seed: ', random_seed)"
   ],
   "id": "initial_id",
   "outputs": [
    {
     "name": "stdout",
     "output_type": "stream",
     "text": [
      "setting up environments...\n",
      "device:  mps ; random_seed:  1234\n"
     ]
    }
   ],
   "execution_count": 2
  },
  {
   "metadata": {
    "ExecuteTime": {
     "end_time": "2024-10-14T06:58:56.416750Z",
     "start_time": "2024-10-14T06:58:56.257969Z"
    }
   },
   "cell_type": "code",
   "source": [
    "print('instantiating objects from config...')\n",
    "data_obj, model_obj, learner_obj, metric_obj, result_obj = [config_obj.instantiation_from_configs(config['configurations'][f'{stem}_configs'], device=device, class_name=f'{stem}_class', parameter_name=f'{stem}_parameters') for stem in ['data', 'model', 'learner', 'metric', 'output']]\n",
    "print('parameter num: ', sum([parameter.numel() for parameter in model_obj.parameters()]))"
   ],
   "id": "8b522a245bba00cb",
   "outputs": [
    {
     "name": "stdout",
     "output_type": "stream",
     "text": [
      "instantiating objects from config...\n",
      "parameter num:  8\n"
     ]
    }
   ],
   "execution_count": 3
  },
  {
   "metadata": {
    "ExecuteTime": {
     "end_time": "2024-10-14T06:58:56.420659Z",
     "start_time": "2024-10-14T06:58:56.417319Z"
    }
   },
   "cell_type": "code",
   "source": [
    "print('loading dataset...')\n",
    "data_loader = data_obj.load(train_percentage=0.9, normalize_X=True)"
   ],
   "id": "914f0e5c4e1b0ab0",
   "outputs": [
    {
     "name": "stdout",
     "output_type": "stream",
     "text": [
      "loading dataset...\n"
     ]
    }
   ],
   "execution_count": 4
  },
  {
   "metadata": {
    "ExecuteTime": {
     "end_time": "2024-10-14T06:59:01.092212Z",
     "start_time": "2024-10-14T06:58:56.421805Z"
    }
   },
   "cell_type": "code",
   "source": [
    "print('training model...')\n",
    "training_records = learner_obj.train(model=model_obj, data_loader=data_loader, device=device, metric=metric_obj, disable_tqdm=True, display_step=100)\n",
    "model_obj.save_ckpt(cache_dir='./ckpt', checkpoint_file=f'{config_file_name}_checkpoint')"
   ],
   "id": "4c528b7582b2a803",
   "outputs": [
    {
     "name": "stdout",
     "output_type": "stream",
     "text": [
      "training model...\n",
      "Epoch: 0, Test Loss: 2.2529475688934326, Test Score: 2.2529475778338415, Time Cost: 0.07504582405090332\n",
      "Epoch: 100, Test Loss: 0.07801901549100876, Test Score: 0.0780190096300517, Time Cost: 0.0018749237060546875\n",
      "Epoch: 200, Test Loss: 0.06200331822037697, Test Score: 0.062003317471633394, Time Cost: 0.002007007598876953\n",
      "Epoch: 300, Test Loss: 0.05571487918496132, Test Score: 0.055714879689520234, Time Cost: 0.0016281604766845703\n",
      "Epoch: 400, Test Loss: 0.05322619900107384, Test Score: 0.05322619494837182, Time Cost: 0.0015711784362792969\n",
      "Epoch: 500, Test Loss: 0.05162668600678444, Test Score: 0.05162668252867226, Time Cost: 0.0015790462493896484\n",
      "Epoch: 600, Test Loss: 0.05041322857141495, Test Score: 0.050413228185061956, Time Cost: 0.0016319751739501953\n",
      "Epoch: 700, Test Loss: 0.04955032095313072, Test Score: 0.049550317632046405, Time Cost: 0.001790761947631836\n",
      "Epoch: 800, Test Loss: 0.04900002107024193, Test Score: 0.04900001848713028, Time Cost: 0.0016162395477294922\n",
      "Epoch: 900, Test Loss: 0.04870116710662842, Test Score: 0.04870116363690439, Time Cost: 0.001840829849243164\n",
      "model checkpoint saving to ./ckpt/iris_configs_checkpoint...\n"
     ]
    }
   ],
   "execution_count": 5
  },
  {
   "metadata": {
    "ExecuteTime": {
     "end_time": "2024-10-14T06:59:01.096909Z",
     "start_time": "2024-10-14T06:59:01.092911Z"
    }
   },
   "cell_type": "code",
   "source": [
    "print('testing model...')\n",
    "test_result = learner_obj.test(model=model_obj, test_loader=data_loader['test_loader'], device=device,\n",
    "                               metric=metric_obj)"
   ],
   "id": "98bcda38c9c93421",
   "outputs": [
    {
     "name": "stdout",
     "output_type": "stream",
     "text": [
      "testing model...\n"
     ]
    }
   ],
   "execution_count": 6
  },
  {
   "metadata": {
    "ExecuteTime": {
     "end_time": "2024-10-14T06:59:01.099227Z",
     "start_time": "2024-10-14T06:59:01.097476Z"
    }
   },
   "cell_type": "code",
   "source": [
    "print('evaluating result...')\n",
    "print(metric_obj.__class__.__name__, metric_obj.evaluate(y_true=test_result['y_true'], y_pred=test_result['y_pred'], y_score=test_result['y_score'], ))"
   ],
   "id": "9f3f9ac63f65af4c",
   "outputs": [
    {
     "name": "stdout",
     "output_type": "stream",
     "text": [
      "evaluating result...\n",
      "mse 0.04859122314268706\n"
     ]
    }
   ],
   "execution_count": 7
  },
  {
   "metadata": {
    "ExecuteTime": {
     "end_time": "2024-10-14T06:59:01.102485Z",
     "start_time": "2024-10-14T06:59:01.099880Z"
    }
   },
   "cell_type": "code",
   "source": [
    "from tinybig.metric import accuracy\n",
    "\n",
    "y_rounded_label = [[round(y[0])] for y in test_result['y_score']]\n",
    "test_result['y_pred'] = y_rounded_label\n",
    "\n",
    "acc_metric = accuracy('accuracy_metric')\n",
    "print('evaluating rounded prediction labels...')\n",
    "print(acc_metric.__class__.__name__, acc_metric.evaluate(y_true=test_result['y_true'], y_pred=test_result['y_pred'], y_score=test_result['y_score'], ))"
   ],
   "id": "10081e57eddbbf41",
   "outputs": [
    {
     "name": "stdout",
     "output_type": "stream",
     "text": [
      "evaluating rounded prediction labels...\n",
      "accuracy 1.0\n"
     ]
    }
   ],
   "execution_count": 8
  },
  {
   "metadata": {
    "ExecuteTime": {
     "end_time": "2024-10-14T06:59:01.107620Z",
     "start_time": "2024-10-14T06:59:01.103075Z"
    }
   },
   "cell_type": "code",
   "source": [
    "print('saving result...')\n",
    "result_obj.save(test_result, cache_dir='./result', output_file='{}_result'.format(config_file_name))\n",
    "result_obj.save(training_records, cache_dir='./result', output_file='{}_record'.format(config_file_name))"
   ],
   "id": "186c8c0e86d98969",
   "outputs": [
    {
     "name": "stdout",
     "output_type": "stream",
     "text": [
      "saving result...\n"
     ]
    }
   ],
   "execution_count": 9
  }
 ],
 "metadata": {
  "kernelspec": {
   "display_name": "Python 3",
   "language": "python",
   "name": "python3"
  },
  "language_info": {
   "codemirror_mode": {
    "name": "ipython",
    "version": 2
   },
   "file_extension": ".py",
   "mimetype": "text/x-python",
   "name": "python",
   "nbconvert_exporter": "python",
   "pygments_lexer": "ipython2",
   "version": "2.7.6"
  }
 },
 "nbformat": 4,
 "nbformat_minor": 5
}
