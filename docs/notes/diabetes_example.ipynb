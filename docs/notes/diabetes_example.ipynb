{
 "cells": [
  {
   "cell_type": "code",
   "id": "7c221a97b79087f1",
   "metadata": {
    "collapsed": true,
    "ExecuteTime": {
     "end_time": "2024-07-10T01:01:35.704346Z",
     "start_time": "2024-07-10T01:01:35.697743Z"
    }
   },
   "source": [
    "from tinybig.config import rpn_config\n",
    "from tinybig.util import set_random_seed\n",
    "\n",
    "print('loading configs...')\n",
    "config_file_name = 'diabetes_configs'\n",
    "config_obj = rpn_config()\n",
    "config = config_obj.load_yaml(cache_dir='./configs', config_file=config_file_name + '.yaml')\n",
    "print(config)"
   ],
   "outputs": [
    {
     "name": "stdout",
     "output_type": "stream",
     "text": [
      "loading configs...\n",
      "{'configurations': {'device': 'mps', 'random_seed': 1234, 'data_configs': {'data_class': 'tinybig.data.diabetes', 'data_parameters': {'name': 'diabetes', 'train_batch_size': 1000, 'test_batch_size': 1000}}, 'learner_configs': {'learner_class': 'tinybig.learner.backward_learner', 'learner_parameters': {'name': 'error_backward_propagation', 'n_epochs': 3000, 'optimizer_configs': {'optimizer_class': 'torch.optim.AdamW', 'optimizer_parameters': {'lr': 0.0005, 'weight_decay': 1e-05}}, 'loss_configs': {'loss_class': 'torch.nn.MSELoss', 'loss_parameters': {'reduction': 'mean'}}}}, 'model_configs': {'model_class': 'tinybig.model.rpn', 'device': 'mps', 'model_parameters': {'name': 'reconciled_polynomial_network', 'depth': 1, 'depth_alloc': [1], 'layer_configs': [{'layer_class': 'tinybig.module.rpn_layer', 'layer_parameters': {'name': 'rpn_layer', 'm': 8, 'n': 1, 'width': 1, 'fusion_strategy': 'average', 'width_alloc': [1], 'head_configs': [{'head_class': 'tinybig.module.rpn_head', 'head_parameters': {'l': None, 'channel_num': 1, 'data_transformation_configs': {'data_transformation_class': 'tinybig.expansion.combinatorial_normal_expansion', 'data_transformation_parameters': {'name': 'combinatorial_normal_expansion', 'd': 2}}, 'parameter_fabrication_configs': {'parameter_fabrication_class': 'tinybig.reconciliation.identity_reconciliation', 'parameter_fabrication_parameters': {'name': 'identity_reconciliation'}}, 'remainder_configs': {'remainder_class': 'tinybig.remainder.linear_remainder', 'remainder_parameters': {'name': 'linear_remainder', 'require_parameters': True}}}}]}}]}}, 'metric_configs': {'metric_class': 'tinybig.metric.mse', 'metric_parameters': {'name': 'mse'}}, 'result_configs': {'result_class': 'tinybig.output.rpn_output', 'result_parameters': {'name': 'prediction_output'}}}}\n"
     ]
    }
   ],
   "execution_count": 19
  },
  {
   "metadata": {
    "ExecuteTime": {
     "end_time": "2024-07-10T01:01:35.708992Z",
     "start_time": "2024-07-10T01:01:35.705737Z"
    }
   },
   "cell_type": "code",
   "source": [
    "print('setting up environments...')\n",
    "device = config['configurations'].pop('device')\n",
    "random_seed = config['configurations'].pop('random_seed')\n",
    "set_random_seed(random_seed)\n",
    "print('device: ', device, '; random_seed: ', random_seed)"
   ],
   "id": "initial_id",
   "outputs": [
    {
     "name": "stdout",
     "output_type": "stream",
     "text": [
      "setting up environments...\n",
      "device:  mps ; random_seed:  1234\n"
     ]
    }
   ],
   "execution_count": 20
  },
  {
   "metadata": {
    "ExecuteTime": {
     "end_time": "2024-07-10T01:01:35.713074Z",
     "start_time": "2024-07-10T01:01:35.710016Z"
    }
   },
   "cell_type": "code",
   "source": [
    "print('instantiating objects from config...')\n",
    "object_dict = config_obj.instantiate_object_from_config(config['configurations'])\n",
    "data_obj, model_obj, learner_obj, metric_obj, result_obj = [object_dict[name] for name in ['data', 'model', 'learner', 'metric', 'result']]\n",
    "print('parameter num: ', sum([parameter.numel() for parameter in model_obj.parameters()]))"
   ],
   "id": "8b522a245bba00cb",
   "outputs": [
    {
     "name": "stdout",
     "output_type": "stream",
     "text": [
      "instantiating objects from config...\n",
      "combinatorial_normal_expansion initialization\n",
      "parameter num:  44\n"
     ]
    }
   ],
   "execution_count": 21
  },
  {
   "metadata": {
    "ExecuteTime": {
     "end_time": "2024-07-10T01:01:35.719746Z",
     "start_time": "2024-07-10T01:01:35.714465Z"
    }
   },
   "cell_type": "code",
   "source": [
    "print('loading dataset...')\n",
    "data_loader = data_obj.load(train_percentage=0.9, normalize_X=True)"
   ],
   "id": "914f0e5c4e1b0ab0",
   "outputs": [
    {
     "name": "stdout",
     "output_type": "stream",
     "text": [
      "loading dataset...\n"
     ]
    }
   ],
   "execution_count": 22
  },
  {
   "metadata": {
    "ExecuteTime": {
     "end_time": "2024-07-10T01:03:16.276785Z",
     "start_time": "2024-07-10T01:01:35.720580Z"
    }
   },
   "cell_type": "code",
   "source": [
    "print('training model...')\n",
    "training_records = learner_obj.train(model=model_obj, data_loader=data_loader, device=device, metric=metric_obj, disable_tqdm=True, display_step=100)\n",
    "model_obj.save_ckpt(cache_dir='./ckpt', checkpoint_file=f'{config_file_name}_checkpoint')"
   ],
   "id": "4c528b7582b2a803",
   "outputs": [
    {
     "name": "stdout",
     "output_type": "stream",
     "text": [
      "training model...\n",
      "Epoch: 0, Test Loss: 0.5340700745582581, Test Score: 0.5340701268297842, Time Cost: 0.006468772888183594\n",
      "Epoch: 100, Test Loss: 0.29197242856025696, Test Score: 0.2919724107636688, Time Cost: 0.0055277347564697266\n",
      "Epoch: 200, Test Loss: 0.2766035795211792, Test Score: 0.27660356945729825, Time Cost: 0.005342245101928711\n",
      "Epoch: 300, Test Loss: 0.26146456599235535, Test Score: 0.2614645354786587, Time Cost: 0.005430936813354492\n",
      "Epoch: 400, Test Loss: 0.24704204499721527, Test Score: 0.24704204207501665, Time Cost: 0.005308866500854492\n",
      "Epoch: 500, Test Loss: 0.23358845710754395, Test Score: 0.233588461016266, Time Cost: 0.005259990692138672\n",
      "Epoch: 600, Test Loss: 0.22124238312244415, Test Score: 0.22124238750083064, Time Cost: 0.005246162414550781\n",
      "Epoch: 700, Test Loss: 0.21007299423217773, Test Score: 0.21007298251503007, Time Cost: 0.0055370330810546875\n",
      "Epoch: 800, Test Loss: 0.2001015841960907, Test Score: 0.2001015802964822, Time Cost: 0.005261659622192383\n",
      "Epoch: 900, Test Loss: 0.1913149207830429, Test Score: 0.19131491785419621, Time Cost: 0.0054361820220947266\n",
      "Epoch: 1000, Test Loss: 0.1836737096309662, Test Score: 0.1836737053254299, Time Cost: 0.005302906036376953\n",
      "Epoch: 1100, Test Loss: 0.17711907625198364, Test Score: 0.17711907725023052, Time Cost: 0.005380153656005859\n",
      "Epoch: 1200, Test Loss: 0.17157748341560364, Test Score: 0.1715774714107086, Time Cost: 0.0056056976318359375\n",
      "Epoch: 1300, Test Loss: 0.16696523129940033, Test Score: 0.16696524386354172, Time Cost: 0.0053501129150390625\n",
      "Epoch: 1400, Test Loss: 0.16319161653518677, Test Score: 0.16319160136611355, Time Cost: 0.0054242610931396484\n",
      "Epoch: 1500, Test Loss: 0.16016244888305664, Test Score: 0.16016245362139456, Time Cost: 0.0053369998931884766\n",
      "Epoch: 1600, Test Loss: 0.15778301656246185, Test Score: 0.15778301431480563, Time Cost: 0.005410194396972656\n",
      "Epoch: 1700, Test Loss: 0.15595999360084534, Test Score: 0.1559599993896924, Time Cost: 0.005301952362060547\n",
      "Epoch: 1800, Test Loss: 0.15460419654846191, Test Score: 0.15460419713485304, Time Cost: 0.00522303581237793\n",
      "Epoch: 1900, Test Loss: 0.15363219380378723, Test Score: 0.153632188729002, Time Cost: 0.005263090133666992\n",
      "Epoch: 2000, Test Loss: 0.15296749770641327, Test Score: 0.15296750178082663, Time Cost: 0.005364894866943359\n",
      "Epoch: 2100, Test Loss: 0.15254199504852295, Test Score: 0.15254199940270272, Time Cost: 0.0052661895751953125\n",
      "Epoch: 2200, Test Loss: 0.15229643881320953, Test Score: 0.15229643199782647, Time Cost: 0.005544900894165039\n",
      "Epoch: 2300, Test Loss: 0.15218046307563782, Test Score: 0.1521804629655372, Time Cost: 0.005230903625488281\n",
      "Epoch: 2400, Test Loss: 0.15215271711349487, Test Score: 0.15215270496868652, Time Cost: 0.005433797836303711\n",
      "Epoch: 2500, Test Loss: 0.15218019485473633, Test Score: 0.15218018954948764, Time Cost: 0.005357980728149414\n",
      "Epoch: 2600, Test Loss: 0.15223759412765503, Test Score: 0.1522375949802569, Time Cost: 0.005576133728027344\n",
      "Epoch: 2700, Test Loss: 0.15230637788772583, Test Score: 0.15230638071102204, Time Cost: 0.005346059799194336\n",
      "Epoch: 2800, Test Loss: 0.15237337350845337, Test Score: 0.15237337481388422, Time Cost: 0.0055010318756103516\n",
      "Epoch: 2900, Test Loss: 0.15243025124073029, Test Score: 0.15243023843696565, Time Cost: 0.005589008331298828\n",
      "model checkpoint saving to ./ckpt/diabetes_configs_checkpoint...\n"
     ]
    }
   ],
   "execution_count": 23
  },
  {
   "metadata": {
    "ExecuteTime": {
     "end_time": "2024-07-10T01:03:16.287049Z",
     "start_time": "2024-07-10T01:03:16.277769Z"
    }
   },
   "cell_type": "code",
   "source": [
    "print('testing model...')\n",
    "test_result = learner_obj.test(model=model_obj, test_loader=data_loader['test_loader'], device=device,\n",
    "                               metric=metric_obj)"
   ],
   "id": "98bcda38c9c93421",
   "outputs": [
    {
     "name": "stdout",
     "output_type": "stream",
     "text": [
      "testing model...\n"
     ]
    }
   ],
   "execution_count": 24
  },
  {
   "metadata": {
    "ExecuteTime": {
     "end_time": "2024-07-10T01:03:16.289972Z",
     "start_time": "2024-07-10T01:03:16.287883Z"
    }
   },
   "cell_type": "code",
   "source": [
    "print('evaluating result...')\n",
    "print(metric_obj.__class__.__name__, metric_obj.evaluate(y_true=test_result['y_true'], y_pred=test_result['y_pred'], y_score=test_result['y_score'], ))"
   ],
   "id": "9f3f9ac63f65af4c",
   "outputs": [
    {
     "name": "stdout",
     "output_type": "stream",
     "text": [
      "evaluating result...\n",
      "mse 0.15247175085902862\n"
     ]
    }
   ],
   "execution_count": 25
  },
  {
   "metadata": {
    "ExecuteTime": {
     "end_time": "2024-07-10T01:03:16.294038Z",
     "start_time": "2024-07-10T01:03:16.290925Z"
    }
   },
   "cell_type": "code",
   "source": [
    "from tinybig.metric import accuracy\n",
    "\n",
    "y_rounded_label = [[round(y[0])] for y in test_result['y_score']]\n",
    "test_result['y_pred'] = y_rounded_label\n",
    "\n",
    "acc_metric = accuracy('accuracy_metric')\n",
    "print('evaluating rounded prediction labels...')\n",
    "print(acc_metric.__class__.__name__, acc_metric.evaluate(y_true=test_result['y_true'], y_pred=test_result['y_pred'], y_score=test_result['y_score'], ))"
   ],
   "id": "10081e57eddbbf41",
   "outputs": [
    {
     "name": "stdout",
     "output_type": "stream",
     "text": [
      "evaluating rounded prediction labels...\n",
      "accuracy 0.8051948051948052\n"
     ]
    }
   ],
   "execution_count": 26
  },
  {
   "metadata": {
    "ExecuteTime": {
     "end_time": "2024-07-10T01:03:16.306931Z",
     "start_time": "2024-07-10T01:03:16.294768Z"
    }
   },
   "cell_type": "code",
   "source": [
    "print('saving result...')\n",
    "result_obj.save(test_result, cache_dir='./result', output_file='{}_result'.format(config_file_name))\n",
    "result_obj.save(training_records, cache_dir='./result', output_file='{}_record'.format(config_file_name))"
   ],
   "id": "186c8c0e86d98969",
   "outputs": [
    {
     "name": "stdout",
     "output_type": "stream",
     "text": [
      "saving result...\n"
     ]
    }
   ],
   "execution_count": 27
  }
 ],
 "metadata": {
  "kernelspec": {
   "display_name": "Python 3",
   "language": "python",
   "name": "python3"
  },
  "language_info": {
   "codemirror_mode": {
    "name": "ipython",
    "version": 2
   },
   "file_extension": ".py",
   "mimetype": "text/x-python",
   "name": "python",
   "nbconvert_exporter": "python",
   "pygments_lexer": "ipython2",
   "version": "2.7.6"
  }
 },
 "nbformat": 4,
 "nbformat_minor": 5
}
