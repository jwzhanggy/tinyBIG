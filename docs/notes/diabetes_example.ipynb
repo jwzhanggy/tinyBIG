{
 "cells": [
  {
   "cell_type": "code",
   "id": "7c221a97b79087f1",
   "metadata": {
    "collapsed": true,
    "ExecuteTime": {
     "end_time": "2024-10-14T06:39:44.192882Z",
     "start_time": "2024-10-14T06:39:42.766197Z"
    }
   },
   "source": [
    "from tinybig.config import config\n",
    "from tinybig.util import set_random_seed\n",
    "\n",
    "print('loading configs...')\n",
    "config_file_name = 'diabetes_configs'\n",
    "config_obj = config()\n",
    "config = config_obj.load_yaml(cache_dir='./configs', config_file=config_file_name + '.yaml')\n",
    "print(config)"
   ],
   "outputs": [
    {
     "name": "stdout",
     "output_type": "stream",
     "text": [
      "loading configs...\n",
      "{'configurations': {'device': 'mps', 'random_seed': 1234, 'data_configs': {'data_class': 'tinybig.data.diabetes', 'data_parameters': {'name': 'diabetes', 'train_batch_size': 1000, 'test_batch_size': 1000}}, 'learner_configs': {'learner_class': 'tinybig.learner.backward_learner', 'learner_parameters': {'name': 'error_backward_propagation', 'n_epochs': 3000, 'optimizer_configs': {'optimizer_class': 'torch.optim.AdamW', 'optimizer_parameters': {'lr': 0.005, 'weight_decay': 1e-05}}, 'loss_configs': {'loss_class': 'torch.nn.MSELoss', 'loss_parameters': {'reduction': 'mean'}}}}, 'model_configs': {'model_class': 'tinybig.model.rpn', 'model_parameters': {'device': 'mps', 'name': 'reconciled_polynomial_network', 'depth': 1, 'depth_alloc': [1], 'layer_configs': [{'layer_class': 'tinybig.module.rpn_layer', 'layer_parameters': {'name': 'rpn_layer', 'm': 8, 'n': 1, 'width': 1, 'width_alloc': [1], 'head_configs': [{'head_class': 'tinybig.module.rpn_head', 'head_parameters': {'l': None, 'channel_num': 1, 'data_transformation_configs': {'function_class': 'tinybig.expansion.combinatorial_normal_expansion', 'function_parameters': {'name': 'combinatorial_normal_expansion', 'd': 2}}, 'parameter_fabrication_configs': {'function_class': 'tinybig.reconciliation.identity_reconciliation', 'function_parameters': {'name': 'identity_reconciliation'}}, 'remainder_configs': {'function_class': 'tinybig.remainder.linear_remainder', 'function_parameters': {'name': 'linear_remainder', 'require_parameters': True}}}}]}}]}}, 'metric_configs': {'metric_class': 'tinybig.metric.mse', 'metric_parameters': {'name': 'mse'}}, 'output_configs': {'output_class': 'tinybig.output.rpn_output', 'output_parameters': {'name': 'prediction_output'}}}}\n"
     ]
    }
   ],
   "execution_count": 1
  },
  {
   "metadata": {
    "ExecuteTime": {
     "end_time": "2024-10-14T06:39:44.208713Z",
     "start_time": "2024-10-14T06:39:44.193853Z"
    }
   },
   "cell_type": "code",
   "source": [
    "print('setting up environments...')\n",
    "device = config['configurations'].pop('device')\n",
    "random_seed = config['configurations'].pop('random_seed')\n",
    "set_random_seed(random_seed)\n",
    "print('device: ', device, '; random_seed: ', random_seed)"
   ],
   "id": "initial_id",
   "outputs": [
    {
     "name": "stdout",
     "output_type": "stream",
     "text": [
      "setting up environments...\n",
      "device:  mps ; random_seed:  1234\n"
     ]
    }
   ],
   "execution_count": 2
  },
  {
   "metadata": {
    "ExecuteTime": {
     "end_time": "2024-10-14T06:39:44.371060Z",
     "start_time": "2024-10-14T06:39:44.209245Z"
    }
   },
   "cell_type": "code",
   "source": [
    "print('instantiating objects from config...')\n",
    "data_obj, model_obj, learner_obj, metric_obj, result_obj = [config_obj.instantiation_from_configs(config['configurations'][f'{stem}_configs'], device=device, class_name=f'{stem}_class', parameter_name=f'{stem}_parameters') for stem in ['data', 'model', 'learner', 'metric', 'output']]\n",
    "\n",
    "print('parameter num: ', sum([parameter.numel() for parameter in model_obj.parameters()]))\n"
   ],
   "id": "8b522a245bba00cb",
   "outputs": [
    {
     "name": "stdout",
     "output_type": "stream",
     "text": [
      "instantiating objects from config...\n",
      "combinatorial_normal_expansion initialization\n",
      "parameter num:  44\n"
     ]
    }
   ],
   "execution_count": 3
  },
  {
   "metadata": {
    "ExecuteTime": {
     "end_time": "2024-10-14T06:39:44.377534Z",
     "start_time": "2024-10-14T06:39:44.371662Z"
    }
   },
   "cell_type": "code",
   "source": [
    "print('loading dataset...')\n",
    "data_loader = data_obj.load(train_percentage=0.9, normalize_X=True)"
   ],
   "id": "914f0e5c4e1b0ab0",
   "outputs": [
    {
     "name": "stdout",
     "output_type": "stream",
     "text": [
      "loading dataset...\n"
     ]
    }
   ],
   "execution_count": 4
  },
  {
   "metadata": {
    "ExecuteTime": {
     "end_time": "2024-10-14T06:41:01.784975Z",
     "start_time": "2024-10-14T06:39:44.379569Z"
    }
   },
   "cell_type": "code",
   "source": [
    "print('training model...')\n",
    "training_records = learner_obj.train(model=model_obj, data_loader=data_loader, device=device, metric=metric_obj, disable_tqdm=True, display_step=100)\n",
    "model_obj.save_ckpt(cache_dir='./ckpt', checkpoint_file=f'{config_file_name}_checkpoint')"
   ],
   "id": "4c528b7582b2a803",
   "outputs": [
    {
     "name": "stdout",
     "output_type": "stream",
     "text": [
      "training model...\n",
      "Epoch: 0, Test Loss: 3.7307851314544678, Test Score: 3.730784991735201, Time Cost: 0.08037281036376953\n",
      "Epoch: 100, Test Loss: 0.21705354750156403, Test Score: 0.2170535601839862, Time Cost: 0.004579782485961914\n",
      "Epoch: 200, Test Loss: 0.20724423229694366, Test Score: 0.20724423370726192, Time Cost: 0.0040740966796875\n",
      "Epoch: 300, Test Loss: 0.19777674973011017, Test Score: 0.19777675290644847, Time Cost: 0.004434823989868164\n",
      "Epoch: 400, Test Loss: 0.18946895003318787, Test Score: 0.1894689608883343, Time Cost: 0.004333019256591797\n",
      "Epoch: 500, Test Loss: 0.18237577378749847, Test Score: 0.18237576561451507, Time Cost: 0.004703998565673828\n",
      "Epoch: 600, Test Loss: 0.17636185884475708, Test Score: 0.1763618507896189, Time Cost: 0.004437923431396484\n",
      "Epoch: 700, Test Loss: 0.17128917574882507, Test Score: 0.17128916505898378, Time Cost: 0.0048906803131103516\n",
      "Epoch: 800, Test Loss: 0.16704346239566803, Test Score: 0.1670434646723922, Time Cost: 0.004873991012573242\n",
      "Epoch: 900, Test Loss: 0.16352222859859467, Test Score: 0.1635222226057083, Time Cost: 0.004507780075073242\n",
      "Epoch: 1000, Test Loss: 0.1606263518333435, Test Score: 0.1606263437590448, Time Cost: 0.003973960876464844\n",
      "Epoch: 1100, Test Loss: 0.15825960040092468, Test Score: 0.1582596071850225, Time Cost: 0.004250049591064453\n",
      "Epoch: 1200, Test Loss: 0.1563311517238617, Test Score: 0.1563311417174192, Time Cost: 0.004190921783447266\n",
      "Epoch: 1300, Test Loss: 0.15475870668888092, Test Score: 0.15475870768495295, Time Cost: 0.004405021667480469\n",
      "Epoch: 1400, Test Loss: 0.15347129106521606, Test Score: 0.15347129713611773, Time Cost: 0.005041837692260742\n",
      "Epoch: 1500, Test Loss: 0.15241019427776337, Test Score: 0.152410196326688, Time Cost: 0.004300117492675781\n",
      "Epoch: 1600, Test Loss: 0.15152817964553833, Test Score: 0.15152818332028758, Time Cost: 0.004853248596191406\n",
      "Epoch: 1700, Test Loss: 0.15078923106193542, Test Score: 0.1507892361133443, Time Cost: 0.004215717315673828\n",
      "Epoch: 1800, Test Loss: 0.15016569197177887, Test Score: 0.1501656916890705, Time Cost: 0.004233837127685547\n",
      "Epoch: 1900, Test Loss: 0.14963704347610474, Test Score: 0.14963705556328313, Time Cost: 0.004703044891357422\n",
      "Epoch: 2000, Test Loss: 0.14918777346611023, Test Score: 0.14918776884430596, Time Cost: 0.004456996917724609\n",
      "Epoch: 2100, Test Loss: 0.14880573749542236, Test Score: 0.14880574934941287, Time Cost: 0.004247903823852539\n",
      "Epoch: 2200, Test Loss: 0.14848129451274872, Test Score: 0.14848130700526002, Time Cost: 0.004382133483886719\n",
      "Epoch: 2300, Test Loss: 0.14820624887943268, Test Score: 0.14820625440626234, Time Cost: 0.004746913909912109\n",
      "Epoch: 2400, Test Loss: 0.14797352254390717, Test Score: 0.14797352567081232, Time Cost: 0.005099058151245117\n",
      "Epoch: 2500, Test Loss: 0.14777684211730957, Test Score: 0.14777684430443458, Time Cost: 0.004982948303222656\n",
      "Epoch: 2600, Test Loss: 0.14761047065258026, Test Score: 0.14761046328542743, Time Cost: 0.004147052764892578\n",
      "Epoch: 2700, Test Loss: 0.147469162940979, Test Score: 0.14746916384869702, Time Cost: 0.004200935363769531\n",
      "Epoch: 2800, Test Loss: 0.14734850823879242, Test Score: 0.14734850774344788, Time Cost: 0.004967212677001953\n",
      "Epoch: 2900, Test Loss: 0.14724455773830414, Test Score: 0.14724455712512222, Time Cost: 0.004168033599853516\n",
      "model checkpoint saving to ./ckpt/diabetes_configs_checkpoint...\n"
     ]
    }
   ],
   "execution_count": 5
  },
  {
   "metadata": {
    "ExecuteTime": {
     "end_time": "2024-10-14T06:41:01.792399Z",
     "start_time": "2024-10-14T06:41:01.785796Z"
    }
   },
   "cell_type": "code",
   "source": [
    "print('testing model...')\n",
    "test_result = learner_obj.test(model=model_obj, test_loader=data_loader['test_loader'], device=device,\n",
    "                               metric=metric_obj)"
   ],
   "id": "98bcda38c9c93421",
   "outputs": [
    {
     "name": "stdout",
     "output_type": "stream",
     "text": [
      "testing model...\n"
     ]
    }
   ],
   "execution_count": 6
  },
  {
   "metadata": {
    "ExecuteTime": {
     "end_time": "2024-10-14T06:41:01.795315Z",
     "start_time": "2024-10-14T06:41:01.793250Z"
    }
   },
   "cell_type": "code",
   "source": [
    "print('evaluating result...')\n",
    "print(metric_obj.__class__.__name__, metric_obj.evaluate(y_true=test_result['y_true'], y_pred=test_result['y_pred'], y_score=test_result['y_score'], ))"
   ],
   "id": "9f3f9ac63f65af4c",
   "outputs": [
    {
     "name": "stdout",
     "output_type": "stream",
     "text": [
      "evaluating result...\n",
      "mse 0.14715478886237063\n"
     ]
    }
   ],
   "execution_count": 7
  },
  {
   "metadata": {
    "ExecuteTime": {
     "end_time": "2024-10-14T06:41:01.798621Z",
     "start_time": "2024-10-14T06:41:01.795927Z"
    }
   },
   "cell_type": "code",
   "source": [
    "from tinybig.metric import accuracy\n",
    "\n",
    "y_rounded_label = [[round(y[0])] for y in test_result['y_score']]\n",
    "test_result['y_pred'] = y_rounded_label\n",
    "\n",
    "acc_metric = accuracy('accuracy_metric')\n",
    "print('evaluating rounded prediction labels...')\n",
    "print(acc_metric.__class__.__name__, acc_metric.evaluate(y_true=test_result['y_true'], y_pred=test_result['y_pred'], y_score=test_result['y_score'], ))"
   ],
   "id": "10081e57eddbbf41",
   "outputs": [
    {
     "name": "stdout",
     "output_type": "stream",
     "text": [
      "evaluating rounded prediction labels...\n",
      "accuracy 0.8181818181818182\n"
     ]
    }
   ],
   "execution_count": 8
  },
  {
   "metadata": {
    "ExecuteTime": {
     "end_time": "2024-10-14T06:41:01.808021Z",
     "start_time": "2024-10-14T06:41:01.799330Z"
    }
   },
   "cell_type": "code",
   "source": [
    "print('saving result...')\n",
    "result_obj.save(test_result, cache_dir='./result', output_file='{}_result'.format(config_file_name))\n",
    "result_obj.save(training_records, cache_dir='./result', output_file='{}_record'.format(config_file_name))"
   ],
   "id": "186c8c0e86d98969",
   "outputs": [
    {
     "name": "stdout",
     "output_type": "stream",
     "text": [
      "saving result...\n"
     ]
    }
   ],
   "execution_count": 9
  }
 ],
 "metadata": {
  "kernelspec": {
   "display_name": "Python 3",
   "language": "python",
   "name": "python3"
  },
  "language_info": {
   "codemirror_mode": {
    "name": "ipython",
    "version": 2
   },
   "file_extension": ".py",
   "mimetype": "text/x-python",
   "name": "python",
   "nbconvert_exporter": "python",
   "pygments_lexer": "ipython2",
   "version": "2.7.6"
  }
 },
 "nbformat": 4,
 "nbformat_minor": 5
}
