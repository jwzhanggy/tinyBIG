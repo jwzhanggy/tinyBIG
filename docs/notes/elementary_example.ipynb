{
 "cells": [
  {
   "cell_type": "code",
   "id": "7c221a97b79087f1",
   "metadata": {
    "collapsed": true,
    "ExecuteTime": {
     "end_time": "2024-10-14T06:41:15.984547Z",
     "start_time": "2024-10-14T06:41:14.584258Z"
    }
   },
   "source": [
    "from tinybig.config import config\n",
    "from tinybig.util import set_random_seed\n",
    "\n",
    "print('loading configs...')\n",
    "config_file_name = 'elementary_configs'\n",
    "config_obj = config()\n",
    "config = config_obj.load_yaml(cache_dir='./configs', config_file=config_file_name + '.yaml')\n",
    "print(config)"
   ],
   "outputs": [
    {
     "name": "stdout",
     "output_type": "stream",
     "text": [
      "loading configs...\n",
      "{'configurations': {'device': 'cpu', 'random_seed': 123, 'data_configs': {'data_class': 'tinybig.data.elementary_function', 'data_parameters': {'name': 'elementary_function', 'train_batch_size': 100, 'test_batch_size': 100, 'equation_index': 14}}, 'learner_configs': {'learner_class': 'tinybig.learner.backward_learner', 'learner_parameters': {'name': 'error_backward_propagation', 'n_epochs': 2000, 'optimizer_configs': {'optimizer_class': 'torch.optim.AdamW', 'optimizer_parameters': {'lr': 0.003, 'weight_decay': 0.0001}}, 'lr_scheduler_configs': {'lr_scheduler_class': 'torch.optim.lr_scheduler.ExponentialLR', 'lr_scheduler_parameters': {'gamma': 0.999}}, 'loss_configs': {'loss_class': 'torch.nn.MSELoss', 'loss_parameters': {'reduction': 'mean'}}}}, 'model_configs': {'model_class': 'tinybig.model.rpn', 'model_parameters': {'device': 'cpu', 'name': 'reconciled_polynomial_network', 'depth': 2, 'depth_alloc': [1, 1], 'layer_configs': [{'layer_class': 'tinybig.module.rpn_layer', 'layer_parameters': {'name': 'rpn_layer', 'm': 2, 'n': 2, 'width': 1, 'width_alloc': [1], 'head_configs': [{'head_class': 'tinybig.module.rpn_head', 'head_parameters': {'l': None, 'channel_num': 1, 'data_transformation_configs': {'function_class': 'tinybig.expansion.extended_expansion', 'function_parameters': {'name': 'extended_expansion', 'composition_function_configs': [{'function_class': 'tinybig.expansion.bspline_expansion', 'function_parameters': {'name': 'bspline_expansion'}}, {'function_class': 'tinybig.expansion.taylor_expansion', 'function_parameters': {'name': 'taylor_expansion', 'd': 2}}]}}, 'parameter_fabrication_configs': {'function_class': 'tinybig.reconciliation.lorr_reconciliation', 'function_parameters': {'name': 'lorr_reconciliation', 'r': 1}}, 'remainder_configs': {'function_class': 'tinybig.remainder.zero_remainder', 'function_parameters': {'name': 'zero_remainder'}}}}]}}, {'layer_class': 'tinybig.module.rpn_layer', 'layer_parameters': {'name': 'rpn_layer', 'm': 2, 'n': 1, 'width': 1, 'width_alloc': [1], 'head_configs': [{'head_class': 'tinybig.module.rpn_head', 'head_parameters': {'l': None, 'channel_num': 1, 'data_transformation_configs': {'function_class': 'tinybig.expansion.extended_expansion', 'function_parameters': {'name': 'extended_expansion', 'composition_function_configs': [{'function_class': 'tinybig.expansion.bspline_expansion', 'function_parameters': {'name': 'bspline_expansion'}}, {'function_class': 'tinybig.expansion.taylor_expansion', 'function_parameters': {'name': 'taylor_expansion', 'd': 2}}]}}, 'parameter_fabrication_configs': {'function_class': 'tinybig.reconciliation.lorr_reconciliation', 'function_parameters': {'name': 'lorr_reconciliation', 'r': 1}}, 'remainder_configs': {'function_class': 'tinybig.remainder.zero_remainder', 'function_parameters': {'name': 'zero_remainder'}}}}]}}]}}, 'metric_configs': {'metric_class': 'tinybig.metric.mse', 'metric_parameters': {'name': 'mse'}}, 'output_configs': {'output_class': 'tinybig.output.rpn_output', 'output_parameters': {'name': 'rpn_output'}}}}\n"
     ]
    }
   ],
   "execution_count": 1
  },
  {
   "metadata": {
    "ExecuteTime": {
     "end_time": "2024-10-14T06:41:16.000875Z",
     "start_time": "2024-10-14T06:41:15.985578Z"
    }
   },
   "cell_type": "code",
   "source": [
    "print('setting up environments...')\n",
    "device = config['configurations'].pop('device')\n",
    "random_seed = config['configurations'].pop('random_seed')\n",
    "set_random_seed(random_seed)\n",
    "print('device: ', device, '; random_seed: ', random_seed)"
   ],
   "id": "initial_id",
   "outputs": [
    {
     "name": "stdout",
     "output_type": "stream",
     "text": [
      "setting up environments...\n",
      "device:  cpu ; random_seed:  123\n"
     ]
    }
   ],
   "execution_count": 2
  },
  {
   "metadata": {
    "ExecuteTime": {
     "end_time": "2024-10-14T06:41:16.004397Z",
     "start_time": "2024-10-14T06:41:16.001480Z"
    }
   },
   "cell_type": "code",
   "source": [
    "print('instantiating objects from config...')\n",
    "data_obj, model_obj, learner_obj, metric_obj, result_obj = [config_obj.instantiation_from_configs(config['configurations'][f'{stem}_configs'], device=device, class_name=f'{stem}_class', parameter_name=f'{stem}_parameters') for stem in ['data', 'model', 'learner', 'metric', 'output']]\n",
    "print('parameter num: ', sum([parameter.numel() for parameter in model_obj.parameters()]))"
   ],
   "id": "8b522a245bba00cb",
   "outputs": [
    {
     "name": "stdout",
     "output_type": "stream",
     "text": [
      "instantiating objects from config...\n",
      "parameter num:  47\n"
     ]
    }
   ],
   "execution_count": 3
  },
  {
   "metadata": {
    "ExecuteTime": {
     "end_time": "2024-10-14T06:41:16.032795Z",
     "start_time": "2024-10-14T06:41:16.005121Z"
    }
   },
   "cell_type": "code",
   "source": [
    "print('loading dataset...')\n",
    "data_loader = data_obj.load()\n",
    "print(data_loader['str_equation'])"
   ],
   "id": "914f0e5c4e1b0ab0",
   "outputs": [
    {
     "name": "stdout",
     "output_type": "stream",
     "text": [
      "loading dataset...\n",
      "E.14,14,f,arcsinh(x+y),2,x,0,0.5,y,0,0.5\n"
     ]
    }
   ],
   "execution_count": 4
  },
  {
   "metadata": {
    "ExecuteTime": {
     "end_time": "2024-10-14T06:41:44.289745Z",
     "start_time": "2024-10-14T06:41:16.034255Z"
    }
   },
   "cell_type": "code",
   "source": [
    "print('training model...')\n",
    "training_records = learner_obj.train(model=model_obj, data_loader=data_loader, device=device,\n",
    "                                     metric=metric_obj, disable_tqdm=True, display_step=100)\n",
    "model_obj.save_ckpt(cache_dir='./ckpt', checkpoint_file=f'{config_file_name}_checkpoint')"
   ],
   "id": "4c528b7582b2a803",
   "outputs": [
    {
     "name": "stdout",
     "output_type": "stream",
     "text": [
      "training model...\n",
      "Epoch: 0, Test Loss: 0.2524417042732239, Test Score: 0.2524417055689922, Time Cost: 0.005294084548950195\n",
      "Epoch: 100, Test Loss: 0.0001152791410277132, Test Score: 0.00011527914101987585, Time Cost: 0.004798173904418945\n",
      "Epoch: 200, Test Loss: 2.3911261905595893e-05, Test Score: 2.391126250305909e-05, Time Cost: 0.004842042922973633\n",
      "Epoch: 300, Test Loss: 6.5726183720471456e-06, Test Score: 6.572618162809303e-06, Time Cost: 0.0054819583892822266\n",
      "Epoch: 400, Test Loss: 3.51954729467252e-06, Test Score: 3.519547253277029e-06, Time Cost: 0.0048449039459228516\n",
      "Epoch: 500, Test Loss: 2.334105454337987e-06, Test Score: 2.3341054057180665e-06, Time Cost: 0.0048980712890625\n",
      "Epoch: 600, Test Loss: 1.6119407689529907e-06, Test Score: 1.6119407674374046e-06, Time Cost: 0.005117177963256836\n",
      "Epoch: 700, Test Loss: 1.1640622460618034e-06, Test Score: 1.1640622808364795e-06, Time Cost: 0.005037069320678711\n",
      "Epoch: 800, Test Loss: 7.221749314112458e-07, Test Score: 7.221749273441866e-07, Time Cost: 0.004915952682495117\n",
      "Epoch: 900, Test Loss: 4.949451891889112e-07, Test Score: 4.949451749226494e-07, Time Cost: 0.004967212677001953\n",
      "Epoch: 1000, Test Loss: 3.0254545606567263e-07, Test Score: 3.0254545571600097e-07, Time Cost: 0.004880189895629883\n",
      "Epoch: 1100, Test Loss: 1.584298935597417e-07, Test Score: 1.5842988632189942e-07, Time Cost: 0.00524592399597168\n",
      "Epoch: 1200, Test Loss: 8.78608467758113e-08, Test Score: 8.786084399948352e-08, Time Cost: 0.004960536956787109\n",
      "Epoch: 1300, Test Loss: 4.339245158746508e-08, Test Score: 4.339244999582853e-08, Time Cost: 0.004971027374267578\n",
      "Epoch: 1400, Test Loss: 1.848504354029501e-08, Test Score: 1.8485043440839843e-08, Time Cost: 0.00481414794921875\n",
      "Epoch: 1500, Test Loss: 1.6001968905499098e-08, Test Score: 1.6001969413155514e-08, Time Cost: 0.005093812942504883\n",
      "Epoch: 1600, Test Loss: 9.084566432449037e-09, Test Score: 9.084566393334492e-09, Time Cost: 0.005082130432128906\n",
      "Epoch: 1700, Test Loss: 8.62949569579996e-08, Test Score: 8.629495975815554e-08, Time Cost: 0.005034923553466797\n",
      "Epoch: 1800, Test Loss: 2.7535624447239117e-09, Test Score: 2.753562404138321e-09, Time Cost: 0.004888057708740234\n",
      "Epoch: 1900, Test Loss: 1.2476009558781698e-08, Test Score: 1.2476010098828871e-08, Time Cost: 0.005018949508666992\n",
      "model checkpoint saving to ./ckpt/elementary_configs_checkpoint...\n"
     ]
    }
   ],
   "execution_count": 5
  },
  {
   "metadata": {
    "ExecuteTime": {
     "end_time": "2024-10-14T06:41:44.298411Z",
     "start_time": "2024-10-14T06:41:44.290568Z"
    }
   },
   "cell_type": "code",
   "source": [
    "print('testing model...')\n",
    "test_result = learner_obj.test(model=model_obj, test_loader=data_loader['test_loader'], device=device,\n",
    "                               metric=metric_obj)"
   ],
   "id": "98bcda38c9c93421",
   "outputs": [
    {
     "name": "stdout",
     "output_type": "stream",
     "text": [
      "testing model...\n"
     ]
    }
   ],
   "execution_count": 6
  },
  {
   "metadata": {
    "ExecuteTime": {
     "end_time": "2024-10-14T06:41:44.301333Z",
     "start_time": "2024-10-14T06:41:44.299005Z"
    }
   },
   "cell_type": "code",
   "source": [
    "print('evaluating result...')\n",
    "print(metric_obj.__class__.__name__, metric_obj.evaluate(y_true=test_result['y_true'], y_pred=test_result['y_pred'], y_score=test_result['y_score'], ))"
   ],
   "id": "9f3f9ac63f65af4c",
   "outputs": [
    {
     "name": "stdout",
     "output_type": "stream",
     "text": [
      "evaluating result...\n",
      "mse 1.5089853862074175e-09\n"
     ]
    }
   ],
   "execution_count": 7
  },
  {
   "metadata": {
    "ExecuteTime": {
     "end_time": "2024-10-14T06:41:44.327911Z",
     "start_time": "2024-10-14T06:41:44.301801Z"
    }
   },
   "cell_type": "code",
   "source": [
    "print('saving result...')\n",
    "result_obj.save(test_result, cache_dir='./result', output_file='{}_result'.format(config_file_name))\n",
    "result_obj.save(training_records, cache_dir='./result', output_file='{}_record'.format(config_file_name))"
   ],
   "id": "186c8c0e86d98969",
   "outputs": [
    {
     "name": "stdout",
     "output_type": "stream",
     "text": [
      "saving result...\n"
     ]
    }
   ],
   "execution_count": 8
  }
 ],
 "metadata": {
  "kernelspec": {
   "display_name": "Python 3",
   "language": "python",
   "name": "python3"
  },
  "language_info": {
   "codemirror_mode": {
    "name": "ipython",
    "version": 2
   },
   "file_extension": ".py",
   "mimetype": "text/x-python",
   "name": "python",
   "nbconvert_exporter": "python",
   "pygments_lexer": "ipython2",
   "version": "2.7.6"
  }
 },
 "nbformat": 4,
 "nbformat_minor": 5
}
