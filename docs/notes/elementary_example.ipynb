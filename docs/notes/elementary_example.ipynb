{
 "cells": [
  {
   "cell_type": "code",
   "id": "7c221a97b79087f1",
   "metadata": {
    "collapsed": true,
    "ExecuteTime": {
     "end_time": "2024-07-31T22:45:38.515747Z",
     "start_time": "2024-07-31T22:45:37.225212Z"
    }
   },
   "source": [
    "from tinybig.config import rpn_config\n",
    "from tinybig.util import set_random_seed\n",
    "\n",
    "print('loading configs...')\n",
    "config_file_name = 'elementary_configs'\n",
    "config_obj = rpn_config()\n",
    "config = config_obj.load_yaml(cache_dir='./configs', config_file=config_file_name + '.yaml')\n",
    "print(config)"
   ],
   "outputs": [
    {
     "name": "stdout",
     "output_type": "stream",
     "text": [
      "loading configs...\n",
      "{'configurations': {'device': 'mps', 'random_seed': 123, 'data_configs': {'data_class': 'tinybig.data.elementary_function', 'data_parameters': {'name': 'elementary_function', 'train_batch_size': 100, 'test_batch_size': 100, 'equation_index': 14}}, 'learner_configs': {'learner_class': 'tinybig.learner.backward_learner', 'learner_parameters': {'name': 'error_backward_propagation', 'n_epochs': 2000, 'optimizer_configs': {'optimizer_class': 'torch.optim.AdamW', 'optimizer_parameters': {'lr': 0.003, 'weight_decay': 0.0001}}, 'lr_scheduler_configs': {'lr_scheduler_class': 'torch.optim.lr_scheduler.ExponentialLR', 'lr_scheduler_parameters': {'gamma': 0.999}}, 'loss_configs': {'loss_class': 'torch.nn.MSELoss', 'loss_parameters': {'reduction': 'mean'}}}}, 'model_configs': {'model_class': 'tinybig.model.rpn', 'device': 'mps', 'model_parameters': {'name': 'reconciled_polynomial_network', 'depth': 2, 'depth_alloc': [1, 1], 'layer_configs': [{'layer_class': 'tinybig.module.rpn_layer', 'layer_parameters': {'name': 'rpn_layer', 'm': 2, 'n': 2, 'width': 1, 'width_alloc': [1], 'fusion_strategy': 'average', 'head_configs': [{'head_class': 'tinybig.module.rpn_head', 'head_parameters': {'l': None, 'channel_num': 1, 'data_transformation_configs': {'data_transformation_class': 'tinybig.expansion.extended_expansion', 'data_transformation_parameters': {'name': 'extended_expansion', 'expansion_function_configs': [{'expansion_class': 'tinybig.expansion.bspline_expansion', 'expansion_parameters': {'name': 'bspline_expansion'}}, {'expansion_class': 'tinybig.expansion.taylor_expansion', 'expansion_parameters': {'name': 'taylor_expansion', 'd': 2}}]}}, 'parameter_fabrication_configs': {'parameter_fabrication_class': 'tinybig.reconciliation.lorr_reconciliation', 'parameter_fabrication_parameters': {'name': 'lorr_reconciliation', 'r': 1}}, 'remainder_configs': {'remainder_class': 'tinybig.remainder.zero_remainder', 'remainder_parameters': {'name': 'zero_remainder', 'require_parameters': False, 'enable_bias': False}}}}]}}, {'layer_class': 'tinybig.module.rpn_layer', 'layer_parameters': {'name': 'rpn_layer', 'm': 2, 'n': 1, 'width': 1, 'width_alloc': [1], 'fusion_strategy': 'average', 'head_configs': [{'head_class': 'tinybig.module.rpn_head', 'head_parameters': {'l': None, 'channel_num': 1, 'data_transformation_configs': {'data_transformation_class': 'tinybig.expansion.extended_expansion', 'data_transformation_parameters': {'name': 'extended_expansion', 'expansion_function_configs': [{'expansion_class': 'tinybig.expansion.bspline_expansion', 'expansion_parameters': {'name': 'bspline_expansion'}}, {'expansion_class': 'tinybig.expansion.taylor_expansion', 'expansion_parameters': {'name': 'taylor_expansion', 'd': 2}}]}}, 'parameter_fabrication_configs': {'parameter_fabrication_class': 'tinybig.reconciliation.lorr_reconciliation', 'parameter_fabrication_parameters': {'name': 'lorr_reconciliation', 'r': 1}}, 'remainder_configs': {'remainder_class': 'tinybig.remainder.zero_remainder', 'remainder_parameters': {'name': 'zero_remainder', 'require_parameters': False, 'enable_bias': False}}}}]}}]}}, 'metric_configs': {'metric_class': 'tinybig.metric.mse', 'metric_parameters': {'name': 'mse'}}, 'result_configs': {'result_class': 'tinybig.output.rpn_output', 'result_parameters': {'name': 'rpn_output'}}}}\n"
     ]
    }
   ],
   "execution_count": 1
  },
  {
   "metadata": {
    "ExecuteTime": {
     "end_time": "2024-07-31T22:45:38.548412Z",
     "start_time": "2024-07-31T22:45:38.516949Z"
    }
   },
   "cell_type": "code",
   "source": [
    "print('setting up environments...')\n",
    "device = config['configurations'].pop('device')\n",
    "random_seed = config['configurations'].pop('random_seed')\n",
    "set_random_seed(random_seed)\n",
    "print('device: ', device, '; random_seed: ', random_seed)"
   ],
   "id": "initial_id",
   "outputs": [
    {
     "name": "stdout",
     "output_type": "stream",
     "text": [
      "setting up environments...\n",
      "device:  mps ; random_seed:  123\n"
     ]
    }
   ],
   "execution_count": 2
  },
  {
   "metadata": {
    "ExecuteTime": {
     "end_time": "2024-07-31T22:45:38.552136Z",
     "start_time": "2024-07-31T22:45:38.549131Z"
    }
   },
   "cell_type": "code",
   "source": [
    "print('instantiating objects from config...')\n",
    "object_dict = config_obj.instantiate_object_from_config(config['configurations'])\n",
    "data_obj, model_obj, learner_obj, metric_obj, result_obj = [object_dict[name] for name in ['data', 'model', 'learner', 'metric', 'result']]\n",
    "print('parameter num: ', sum([parameter.numel() for parameter in model_obj.parameters()]))"
   ],
   "id": "8b522a245bba00cb",
   "outputs": [
    {
     "name": "stdout",
     "output_type": "stream",
     "text": [
      "instantiating objects from config...\n",
      "parameter num:  47\n"
     ]
    }
   ],
   "execution_count": 3
  },
  {
   "metadata": {
    "ExecuteTime": {
     "end_time": "2024-07-31T22:45:38.580750Z",
     "start_time": "2024-07-31T22:45:38.553441Z"
    }
   },
   "cell_type": "code",
   "source": [
    "print('loading dataset...')\n",
    "data_loader = data_obj.load()\n",
    "print(data_loader['str_equation'])"
   ],
   "id": "914f0e5c4e1b0ab0",
   "outputs": [
    {
     "name": "stdout",
     "output_type": "stream",
     "text": [
      "loading dataset...\n",
      "E.14,14,f,arcsinh(x+y),2,x,0,0.5,y,0,0.5\n"
     ]
    }
   ],
   "execution_count": 4
  },
  {
   "metadata": {
    "ExecuteTime": {
     "end_time": "2024-07-31T22:49:26.749293Z",
     "start_time": "2024-07-31T22:45:38.582143Z"
    }
   },
   "cell_type": "code",
   "source": [
    "print('training model...')\n",
    "training_records = learner_obj.train(model=model_obj, data_loader=data_loader, device=device,\n",
    "                                     metric=metric_obj, disable_tqdm=True, display_step=100)\n",
    "model_obj.save_ckpt(cache_dir='./ckpt', checkpoint_file=f'{config_file_name}_checkpoint')"
   ],
   "id": "4c528b7582b2a803",
   "outputs": [
    {
     "name": "stdout",
     "output_type": "stream",
     "text": [
      "training model...\n",
      "Epoch: 0, Test Loss: 0.2524416998028755, Test Score: 0.2524417051846299, Time Cost: 0.042885780334472656\n",
      "Epoch: 100, Test Loss: 0.00011527910683071241, Test Score: 0.00011527910800508923, Time Cost: 0.03941774368286133\n",
      "Epoch: 200, Test Loss: 2.391126545262523e-05, Test Score: 2.391126489365892e-05, Time Cost: 0.04023027420043945\n",
      "Epoch: 300, Test Loss: 6.572608162969118e-06, Test Score: 6.572608435869078e-06, Time Cost: 0.03979802131652832\n",
      "Epoch: 400, Test Loss: 3.5195622672290485e-06, Test Score: 3.519562341415268e-06, Time Cost: 0.04119300842285156\n",
      "Epoch: 500, Test Loss: 2.334099656309263e-06, Test Score: 2.3340997543815286e-06, Time Cost: 0.04200387001037598\n",
      "Epoch: 600, Test Loss: 1.6119351073484723e-06, Test Score: 1.6119351278171615e-06, Time Cost: 0.0441431999206543\n",
      "Epoch: 700, Test Loss: 1.163999343134492e-06, Test Score: 1.1639993293543274e-06, Time Cost: 0.0397951602935791\n",
      "Epoch: 800, Test Loss: 7.2217666229335e-07, Test Score: 7.22176668815331e-07, Time Cost: 0.04368996620178223\n",
      "Epoch: 900, Test Loss: 4.94887612489947e-07, Test Score: 4.948876104610631e-07, Time Cost: 0.04012799263000488\n",
      "Epoch: 1000, Test Loss: 3.025931547995242e-07, Test Score: 3.025931632419966e-07, Time Cost: 0.04373884201049805\n",
      "Epoch: 1100, Test Loss: 1.584212050431688e-07, Test Score: 1.5842121761223267e-07, Time Cost: 0.0444951057434082\n",
      "Epoch: 1200, Test Loss: 8.785054852467056e-08, Test Score: 8.785055151103172e-08, Time Cost: 0.04037785530090332\n",
      "Epoch: 1300, Test Loss: 4.33750560802082e-08, Test Score: 4.337505689102142e-08, Time Cost: 0.044896841049194336\n",
      "Epoch: 1400, Test Loss: 1.849457365032947e-08, Test Score: 1.8494574095504617e-08, Time Cost: 0.04923510551452637\n",
      "Epoch: 1500, Test Loss: 1.5995996971440718e-08, Test Score: 1.599599760880588e-08, Time Cost: 0.04176592826843262\n",
      "Epoch: 1600, Test Loss: 9.078116569583016e-09, Test Score: 9.0781169684237e-09, Time Cost: 0.041316986083984375\n",
      "Epoch: 1700, Test Loss: 8.637106319042687e-08, Test Score: 8.637106692820431e-08, Time Cost: 0.04395103454589844\n",
      "Epoch: 1800, Test Loss: 2.759304884580871e-09, Test Score: 2.7593048902881114e-09, Time Cost: 0.04331398010253906\n",
      "Epoch: 1900, Test Loss: 1.2575214647370103e-08, Test Score: 1.2575215319624022e-08, Time Cost: 0.041085004806518555\n",
      "Directory './ckpt' doesn't exit, and it was created...\n",
      "model checkpoint saving to ./ckpt/elementary_configs_checkpoint...\n"
     ]
    }
   ],
   "execution_count": 5
  },
  {
   "metadata": {
    "ExecuteTime": {
     "end_time": "2024-07-31T22:49:26.804071Z",
     "start_time": "2024-07-31T22:49:26.750146Z"
    }
   },
   "cell_type": "code",
   "source": [
    "print('testing model...')\n",
    "test_result = learner_obj.test(model=model_obj, test_loader=data_loader['test_loader'], device=device,\n",
    "                               metric=metric_obj)"
   ],
   "id": "98bcda38c9c93421",
   "outputs": [
    {
     "name": "stdout",
     "output_type": "stream",
     "text": [
      "testing model...\n"
     ]
    }
   ],
   "execution_count": 6
  },
  {
   "metadata": {
    "ExecuteTime": {
     "end_time": "2024-07-31T22:49:26.807311Z",
     "start_time": "2024-07-31T22:49:26.804820Z"
    }
   },
   "cell_type": "code",
   "source": [
    "print('evaluating result...')\n",
    "print(metric_obj.__class__.__name__, metric_obj.evaluate(y_true=test_result['y_true'], y_pred=test_result['y_pred'], y_score=test_result['y_score'], ))"
   ],
   "id": "9f3f9ac63f65af4c",
   "outputs": [
    {
     "name": "stdout",
     "output_type": "stream",
     "text": [
      "evaluating result...\n",
      "mse 1.5470938963708936e-09\n"
     ]
    }
   ],
   "execution_count": 7
  },
  {
   "metadata": {
    "ExecuteTime": {
     "end_time": "2024-07-31T22:49:26.833417Z",
     "start_time": "2024-07-31T22:49:26.807996Z"
    }
   },
   "cell_type": "code",
   "source": [
    "print('saving result...')\n",
    "result_obj.save(test_result, cache_dir='./result', output_file='{}_result'.format(config_file_name))\n",
    "result_obj.save(training_records, cache_dir='./result', output_file='{}_record'.format(config_file_name))"
   ],
   "id": "186c8c0e86d98969",
   "outputs": [
    {
     "name": "stdout",
     "output_type": "stream",
     "text": [
      "saving result...\n",
      "Directory './result' doesn't exit, and it was created...\n"
     ]
    }
   ],
   "execution_count": 8
  }
 ],
 "metadata": {
  "kernelspec": {
   "display_name": "Python 3",
   "language": "python",
   "name": "python3"
  },
  "language_info": {
   "codemirror_mode": {
    "name": "ipython",
    "version": 2
   },
   "file_extension": ".py",
   "mimetype": "text/x-python",
   "name": "python",
   "nbconvert_exporter": "python",
   "pygments_lexer": "ipython2",
   "version": "2.7.6"
  }
 },
 "nbformat": 4,
 "nbformat_minor": 5
}
