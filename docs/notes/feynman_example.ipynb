{
 "cells": [
  {
   "cell_type": "code",
   "id": "7c221a97b79087f1",
   "metadata": {
    "collapsed": true,
    "ExecuteTime": {
     "end_time": "2024-10-14T06:42:08.650496Z",
     "start_time": "2024-10-14T06:42:07.219896Z"
    }
   },
   "source": [
    "from tinybig.config import config\n",
    "from tinybig.util import set_random_seed\n",
    "\n",
    "print('loading configs...')\n",
    "config_file_name = 'feynman_configs'\n",
    "config_obj = config()\n",
    "config = config_obj.load_yaml(cache_dir='./configs', config_file=config_file_name + '.yaml')\n",
    "print(config)"
   ],
   "outputs": [
    {
     "name": "stdout",
     "output_type": "stream",
     "text": [
      "loading configs...\n",
      "{'configurations': {'device': 'cpu', 'random_seed': 4567, 'data_configs': {'data_class': 'tinybig.data.feynman_function', 'data_parameters': {'name': 'elementary_function', 'train_batch_size': 100, 'test_batch_size': 100, 'equation_index': 4}}, 'learner_configs': {'learner_class': 'tinybig.learner.backward_learner', 'learner_parameters': {'name': 'error_backward_propagation', 'n_epochs': 2000, 'optimizer_configs': {'optimizer_class': 'torch.optim.AdamW', 'optimizer_parameters': {'lr': 0.003, 'weight_decay': 0.0001}}, 'lr_scheduler_configs': {'lr_scheduler_class': 'torch.optim.lr_scheduler.ExponentialLR', 'lr_scheduler_parameters': {'gamma': 0.999}}, 'loss_configs': {'loss_class': 'torch.nn.MSELoss', 'loss_parameters': {'reduction': 'mean'}}}}, 'model_configs': {'model_class': 'tinybig.model.rpn', 'model_parameters': {'device': 'cpu', 'name': 'reconciled_polynomial_network', 'depth': 3, 'depth_alloc': [1, 1, 1], 'layer_configs': [{'layer_class': 'tinybig.module.rpn_layer', 'layer_parameters': {'name': 'rpn_layer', 'm': 9, 'n': 2, 'width': 1, 'width_alloc': [1], 'head_configs': [{'head_class': 'tinybig.module.rpn_head', 'head_parameters': {'l': None, 'channel_num': 1, 'data_transformation_configs': {'function_class': 'tinybig.expansion.extended_expansion', 'function_parameters': {'name': 'extended_expansion', 'composition_function_configs': [{'function_class': 'tinybig.expansion.bspline_expansion', 'function_parameters': {'name': 'bspline_expansion', 't': 10, 'd': 4}}, {'function_class': 'tinybig.expansion.taylor_expansion', 'function_parameters': {'name': 'taylor_expansion', 'd': 2}}]}}, 'parameter_fabrication_configs': {'function_class': 'tinybig.reconciliation.lorr_reconciliation', 'function_parameters': {'name': 'lorr_reconciliation', 'r': 1}}, 'remainder_configs': {'function_class': 'tinybig.remainder.linear_remainder', 'function_parameters': {'name': 'linear_remainder', 'require_parameters': True, 'activation_functions': 'torch.nn.functional.silu'}}}}]}}, {'layer_class': 'tinybig.module.rpn_layer', 'layer_parameters': {'name': 'rpn_layer', 'm': 2, 'n': 2, 'width': 1, 'width_alloc': [1], 'head_configs': [{'head_class': 'tinybig.module.rpn_head', 'head_parameters': {'l': None, 'channel_num': 1, 'data_transformation_configs': {'function_class': 'tinybig.expansion.extended_expansion', 'function_parameters': {'name': 'extended_expansion', 'composition_function_configs': [{'function_class': 'tinybig.expansion.bspline_expansion', 'function_parameters': {'name': 'bspline_expansion', 't': 10, 'd': 4}}, {'function_class': 'tinybig.expansion.taylor_expansion', 'function_parameters': {'name': 'taylor_expansion', 'd': 2}}]}}, 'parameter_fabrication_configs': {'function_class': 'tinybig.reconciliation.lorr_reconciliation', 'function_parameters': {'name': 'lorr_reconciliation', 'r': 1}}, 'remainder_configs': {'function_class': 'tinybig.remainder.linear_remainder', 'function_parameters': {'name': 'linear_remainder', 'require_parameters': True, 'activation_functions': 'torch.nn.functional.silu'}}}}]}}, {'layer_class': 'tinybig.module.rpn_layer', 'layer_parameters': {'name': 'rpn_layer', 'm': 2, 'n': 1, 'width': 1, 'width_alloc': [1], 'head_configs': [{'head_class': 'tinybig.module.rpn_head', 'head_parameters': {'l': None, 'channel_num': 1, 'data_transformation_configs': {'function_class': 'tinybig.expansion.extended_expansion', 'function_parameters': {'name': 'extended_expansion', 'composition_function_configs': [{'function_class': 'tinybig.expansion.bspline_expansion', 'function_parameters': {'name': 'bspline_expansion', 't': 10, 'd': 4}}, {'function_class': 'tinybig.expansion.taylor_expansion', 'function_parameters': {'name': 'taylor_expansion', 'd': 2}}]}}, 'parameter_fabrication_configs': {'function_class': 'tinybig.reconciliation.lorr_reconciliation', 'function_parameters': {'name': 'lorr_reconciliation', 'r': 1}}, 'remainder_configs': {'function_class': 'tinybig.remainder.linear_remainder', 'function_parameters': {'name': 'linear_remainder', 'require_parameters': True, 'activation_functions': 'torch.nn.functional.silu'}}}}]}}]}}, 'metric_configs': {'metric_class': 'tinybig.metric.mse', 'metric_parameters': {'name': 'mse'}}, 'output_configs': {'output_class': 'tinybig.output.rpn_output', 'output_parameters': {'name': 'rpn_output'}}}}\n"
     ]
    }
   ],
   "execution_count": 1
  },
  {
   "metadata": {
    "ExecuteTime": {
     "end_time": "2024-10-14T06:42:08.667254Z",
     "start_time": "2024-10-14T06:42:08.651615Z"
    }
   },
   "cell_type": "code",
   "source": [
    "print('setting up environments...')\n",
    "device = config['configurations'].pop('device')\n",
    "random_seed = config['configurations'].pop('random_seed')\n",
    "set_random_seed(random_seed)\n",
    "print('device: ', device, '; random_seed: ', random_seed)"
   ],
   "id": "initial_id",
   "outputs": [
    {
     "name": "stdout",
     "output_type": "stream",
     "text": [
      "setting up environments...\n",
      "device:  cpu ; random_seed:  4567\n"
     ]
    }
   ],
   "execution_count": 2
  },
  {
   "metadata": {
    "ExecuteTime": {
     "end_time": "2024-10-14T06:42:08.671408Z",
     "start_time": "2024-10-14T06:42:08.667899Z"
    }
   },
   "cell_type": "code",
   "source": [
    "print('instantiating objects from config...')\n",
    "data_obj, model_obj, learner_obj, metric_obj, result_obj = [config_obj.instantiation_from_configs(config['configurations'][f'{stem}_configs'], device=device, class_name=f'{stem}_class', parameter_name=f'{stem}_parameters') for stem in ['data', 'model', 'learner', 'metric', 'output']]\n",
    "print('parameter num: ', sum([parameter.numel() for parameter in model_obj.parameters()]))"
   ],
   "id": "8b522a245bba00cb",
   "outputs": [
    {
     "name": "stdout",
     "output_type": "stream",
     "text": [
      "instantiating objects from config...\n",
      "parameter num:  313\n"
     ]
    }
   ],
   "execution_count": 3
  },
  {
   "metadata": {
    "ExecuteTime": {
     "end_time": "2024-10-14T06:42:08.731858Z",
     "start_time": "2024-10-14T06:42:08.672040Z"
    }
   },
   "cell_type": "code",
   "source": [
    "print('loading dataset...')\n",
    "data_loader = data_obj.load()\n",
    "print(data_loader['str_equation'])"
   ],
   "id": "914f0e5c4e1b0ab0",
   "outputs": [
    {
     "name": "stdout",
     "output_type": "stream",
     "text": [
      "loading dataset...\n",
      "I.9.18,5,F,G*m1*m2/((x2-x1)**2+(y2-y1)**2+(z2-z1)**2),9,m1,1,2,m2,1,2,G,1,2,x1,3,4,x2,1,2,y1,3,4,y2,1,2,z1,3,4,z2,1,2,,,\n"
     ]
    }
   ],
   "execution_count": 4
  },
  {
   "metadata": {
    "ExecuteTime": {
     "end_time": "2024-10-14T06:42:57.485538Z",
     "start_time": "2024-10-14T06:42:08.733562Z"
    }
   },
   "cell_type": "code",
   "source": [
    "print('training model...')\n",
    "training_records = learner_obj.train(model=model_obj, data_loader=data_loader, device=device,\n",
    "                                     metric=metric_obj, disable_tqdm=True, display_step=100)\n",
    "model_obj.save_ckpt(cache_dir='./ckpt', checkpoint_file=f'{config_file_name}_checkpoint')"
   ],
   "id": "4c528b7582b2a803",
   "outputs": [
    {
     "name": "stdout",
     "output_type": "stream",
     "text": [
      "training model...\n",
      "Epoch: 0, Test Loss: 0.11375603005290032, Test Score: 0.11375603045499631, Time Cost: 0.009092092514038086\n",
      "Epoch: 100, Test Loss: 0.00030789677548455076, Test Score: 0.000307896774107659, Time Cost: 0.008049964904785156\n",
      "Epoch: 200, Test Loss: 0.00023267565411515533, Test Score: 0.00023267565826635967, Time Cost: 0.008138179779052734\n",
      "Epoch: 300, Test Loss: 0.0002634559743455611, Test Score: 0.0002634559642666102, Time Cost: 0.008018970489501953\n",
      "Epoch: 400, Test Loss: 0.000132529680558946, Test Score: 0.00013252967990844684, Time Cost: 0.008460044860839844\n",
      "Epoch: 500, Test Loss: 0.00012213071677251718, Test Score: 0.0001221307178722159, Time Cost: 0.008039236068725586\n",
      "Epoch: 600, Test Loss: 0.00012623440998140722, Test Score: 0.0001262344070151406, Time Cost: 0.008295059204101562\n",
      "Epoch: 700, Test Loss: 0.00011311612543067895, Test Score: 0.00011311612648514802, Time Cost: 0.008265018463134766\n",
      "Epoch: 800, Test Loss: 9.948256811185275e-05, Test Score: 9.948256730178834e-05, Time Cost: 0.008090972900390625\n",
      "Epoch: 900, Test Loss: 0.00011186730916961096, Test Score: 0.00011186731068070521, Time Cost: 0.009198188781738281\n",
      "Epoch: 1000, Test Loss: 8.778737246757373e-05, Test Score: 8.778737043719176e-05, Time Cost: 0.00811910629272461\n",
      "Epoch: 1100, Test Loss: 0.00010241892123303842, Test Score: 0.00010241892329744972, Time Cost: 0.008146286010742188\n",
      "Epoch: 1200, Test Loss: 9.985158358176705e-05, Test Score: 9.985158241880332e-05, Time Cost: 0.00836801528930664\n",
      "Epoch: 1300, Test Loss: 7.701558097323868e-05, Test Score: 7.701558224998273e-05, Time Cost: 0.008121728897094727\n",
      "Epoch: 1400, Test Loss: 7.452521640516352e-05, Test Score: 7.452521972889603e-05, Time Cost: 0.008217096328735352\n",
      "Epoch: 1500, Test Loss: 8.079956423898694e-05, Test Score: 8.079956672675271e-05, Time Cost: 0.008497238159179688\n",
      "Epoch: 1600, Test Loss: 7.953777894726954e-05, Test Score: 7.953777667516165e-05, Time Cost: 0.00841379165649414\n",
      "Epoch: 1700, Test Loss: 6.243466632440686e-05, Test Score: 6.243466584384655e-05, Time Cost: 0.008133888244628906\n",
      "Epoch: 1800, Test Loss: 5.960528869763948e-05, Test Score: 5.960528868183024e-05, Time Cost: 0.009015083312988281\n",
      "Epoch: 1900, Test Loss: 5.688197943527484e-05, Test Score: 5.688197799850903e-05, Time Cost: 0.008051156997680664\n",
      "model checkpoint saving to ./ckpt/feynman_configs_checkpoint...\n"
     ]
    }
   ],
   "execution_count": 5
  },
  {
   "metadata": {
    "ExecuteTime": {
     "end_time": "2024-10-14T06:42:57.497489Z",
     "start_time": "2024-10-14T06:42:57.486242Z"
    }
   },
   "cell_type": "code",
   "source": [
    "print('testing model...')\n",
    "test_result = learner_obj.test(model=model_obj, test_loader=data_loader['test_loader'], device=device,\n",
    "                               metric=metric_obj)"
   ],
   "id": "98bcda38c9c93421",
   "outputs": [
    {
     "name": "stdout",
     "output_type": "stream",
     "text": [
      "testing model...\n"
     ]
    }
   ],
   "execution_count": 6
  },
  {
   "metadata": {
    "ExecuteTime": {
     "end_time": "2024-10-14T06:42:57.500167Z",
     "start_time": "2024-10-14T06:42:57.498168Z"
    }
   },
   "cell_type": "code",
   "source": [
    "print('evaluating result...')\n",
    "print(metric_obj.__class__.__name__, metric_obj.evaluate(y_true=test_result['y_true'], y_pred=test_result['y_pred'], y_score=test_result['y_score'], ))"
   ],
   "id": "9f3f9ac63f65af4c",
   "outputs": [
    {
     "name": "stdout",
     "output_type": "stream",
     "text": [
      "evaluating result...\n",
      "mse 5.744168396941418e-05\n"
     ]
    }
   ],
   "execution_count": 7
  },
  {
   "metadata": {
    "ExecuteTime": {
     "end_time": "2024-10-14T06:42:57.527387Z",
     "start_time": "2024-10-14T06:42:57.500815Z"
    }
   },
   "cell_type": "code",
   "source": [
    "print('saving result...')\n",
    "result_obj.save(test_result, cache_dir='./result', output_file='{}_result'.format(config_file_name))\n",
    "result_obj.save(training_records, cache_dir='./result', output_file='{}_record'.format(config_file_name))"
   ],
   "id": "186c8c0e86d98969",
   "outputs": [
    {
     "name": "stdout",
     "output_type": "stream",
     "text": [
      "saving result...\n"
     ]
    }
   ],
   "execution_count": 8
  }
 ],
 "metadata": {
  "kernelspec": {
   "display_name": "Python 3",
   "language": "python",
   "name": "python3"
  },
  "language_info": {
   "codemirror_mode": {
    "name": "ipython",
    "version": 2
   },
   "file_extension": ".py",
   "mimetype": "text/x-python",
   "name": "python",
   "nbconvert_exporter": "python",
   "pygments_lexer": "ipython2",
   "version": "2.7.6"
  }
 },
 "nbformat": 4,
 "nbformat_minor": 5
}
